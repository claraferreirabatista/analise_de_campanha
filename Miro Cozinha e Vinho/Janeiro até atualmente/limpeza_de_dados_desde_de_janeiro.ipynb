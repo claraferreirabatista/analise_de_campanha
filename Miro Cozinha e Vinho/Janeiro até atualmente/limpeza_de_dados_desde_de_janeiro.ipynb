{
 "cells": [
  {
   "cell_type": "markdown",
   "metadata": {},
   "source": [
    "A confiança nos resultados que você obtém ao analisar dados pode ser influenciada por várias questões relacionadas à qualidade e representatividade das informações. Aqui estão os principais fatores que podem impactar esses resultados:\n",
    "\n",
    "Dados Ausentes (ou Missing Values):\n",
    "\n",
    "Se muitos dados estão faltando em uma coluna, como em uma pesquisa onde várias pessoas deixaram algumas perguntas sem resposta, as médias e outros cálculos podem ficar distorcidos.\n",
    "\n",
    "O que fazer: Preencha essas lacunas com valores médios, medianas ou, em alguns casos, preveja o que poderia estar lá com base em outros dados. Outra opção é remover completamente essas linhas ou colunas se elas estiverem muito incompletas.\n",
    "Valores Extremamente Diferentes (Outliers):\n",
    "\n",
    "Outliers são dados que fogem muito do padrão, como uma pessoa que ganha muito mais ou muito menos que a maioria em uma pesquisa de renda. Esses valores podem afetar bastante a média e o desvio padrão, dando uma impressão errada dos dados.\n",
    "\n",
    "O que fazer: Analise esses valores para entender se são erros ou informações reais. Depois, decida se eles devem ser removidos ou mantidos.\n",
    "Tamanho da Amostra:\n",
    "\n",
    "Com poucos dados, as conclusões podem não refletir bem a realidade, pois a média e outras métricas ficam muito sensíveis a pequenas mudanças.\n",
    "\n",
    "O que fazer: Sempre que possível, colete mais dados. Se isso não for possível, trate os resultados com cuidado, pois eles podem não ser tão precisos.\n",
    "Distribuição dos Dados:\n",
    "\n",
    "Quando os dados estão \"desequilibrados\", como se a maioria dos valores estivesse mais concentrada de um lado, a média pode não representar bem a situação.\n",
    "\n",
    "O que fazer: Considere usar a mediana, que pode dar uma visão mais clara quando os dados estão assimétricos.\n",
    "Erros de Medição:\n",
    "\n",
    "Erros durante a coleta ou registro dos dados, como valores digitados incorretamente, podem afetar os resultados e gerar conclusões erradas.\n",
    "\n",
    "O que fazer: Revise os dados e corrija ou elimine os erros.\n",
    "Amostra Tendenciosa (ou Falta de Representatividade):\n",
    "\n",
    "Se a amostra coletada não representa bem o grupo que você quer estudar (como coletar dados de uma cidade e querer aplicar as conclusões para um país inteiro), os resultados podem ser enganosos.\n",
    "\n",
    "O que fazer: Certifique-se de que a amostra inclui todos os grupos importantes do estudo. Se não for possível, tome cuidado ao interpretar os resultados.\n",
    "Escalas e Unidades Inconsistentes:\n",
    "\n",
    "Comparar valores em escalas diferentes (como mil reais versus milhões de reais) ou em unidades diferentes (como reais e dólares) pode levar a distorções.\n",
    "\n",
    "O que fazer: Ajuste os dados para que todos estejam na mesma escala ou unidade antes de compará-los.\n",
    "Atualidade dos Dados:\n",
    "\n",
    "Dados muito antigos podem não refletir o cenário atual e levar a conclusões que já não fazem mais sentido.\n",
    "\n",
    "O que fazer: Sempre que possível, trabalhe com dados atualizados para que a análise reflita a situação mais recente."
   ]
  },
  {
   "cell_type": "markdown",
   "metadata": {},
   "source": [
    "### Importando as bibliotecas necessárias"
   ]
  },
  {
   "cell_type": "code",
   "execution_count": 1,
   "metadata": {},
   "outputs": [],
   "source": [
    "# Importação das bibliotecas\n",
    "try:\n",
    "    import pandas as pd\n",
    "    import numpy as np\n",
    "    import matplotlib.pyplot as plt\n",
    "    import seaborn as sns\n",
    "    import locale\n",
    "    import openpyxl\n",
    "    import re\n",
    "except ImportError:\n",
    "    # Instalação condicional\n",
    "    import sys\n",
    "    !{sys.executable} -m pip install pandas numpy matplotlib seaborn locale openpyxl re\n",
    "\n"
   ]
  },
  {
   "cell_type": "markdown",
   "metadata": {},
   "source": [
    "#### Carregando o arquivo CSV em um DataFrame\n",
    "#### Neste passo, carregaremos o arquivo CSV com os dados dos anúncios em um DataFrame do pandas\n",
    "#### Certifique-se de ter o arquivo 'miro_dados_brutos_desde_janeiro.csv' no mesmo diretório deste notebook"
   ]
  },
  {
   "cell_type": "code",
   "execution_count": 2,
   "metadata": {},
   "outputs": [],
   "source": [
    "dados_anuncios = pd.read_csv('miro_dados_brutos_desde_janeiro.csv')"
   ]
  },
  {
   "cell_type": "code",
   "execution_count": 3,
   "metadata": {},
   "outputs": [
    {
     "name": "stdout",
     "output_type": "stream",
     "text": [
      "Primeiras 5 linhas do dataset:\n"
     ]
    },
    {
     "data": {
      "text/html": [
       "<div>\n",
       "<style scoped>\n",
       "    .dataframe tbody tr th:only-of-type {\n",
       "        vertical-align: middle;\n",
       "    }\n",
       "\n",
       "    .dataframe tbody tr th {\n",
       "        vertical-align: top;\n",
       "    }\n",
       "\n",
       "    .dataframe thead th {\n",
       "        text-align: right;\n",
       "    }\n",
       "</style>\n",
       "<table border=\"1\" class=\"dataframe\">\n",
       "  <thead>\n",
       "    <tr style=\"text-align: right;\">\n",
       "      <th></th>\n",
       "      <th>Nome do anúncio</th>\n",
       "      <th>Alcance</th>\n",
       "      <th>Impressões</th>\n",
       "      <th>Frequência</th>\n",
       "      <th>Valor usado (BRL)</th>\n",
       "      <th>Configuração de atribuição</th>\n",
       "      <th>Tipo de resultado</th>\n",
       "      <th>Resultados</th>\n",
       "      <th>Custo por resultado</th>\n",
       "      <th>CPM (custo por 1.000 impressões)</th>\n",
       "      <th>...</th>\n",
       "      <th>CPC (custo por clique no link)</th>\n",
       "      <th>Cliques (todos)</th>\n",
       "      <th>Engajamento com a Página</th>\n",
       "      <th>Reproduções de 25% do vídeo</th>\n",
       "      <th>Reproduções de 50% do vídeo</th>\n",
       "      <th>Reproduções de 75% do vídeo</th>\n",
       "      <th>Reproduções de 95% do vídeo</th>\n",
       "      <th>Reproduções de 100% do vídeo</th>\n",
       "      <th>Início dos relatórios</th>\n",
       "      <th>Término dos relatórios</th>\n",
       "    </tr>\n",
       "  </thead>\n",
       "  <tbody>\n",
       "    <tr>\n",
       "      <th>0</th>\n",
       "      <td>AD 01 - CARROSSEL FEED - 05/06/2024</td>\n",
       "      <td>167158</td>\n",
       "      <td>409103</td>\n",
       "      <td>2.447403</td>\n",
       "      <td>562.85</td>\n",
       "      <td>Clique de 7 dias ou visualização de 1 dia</td>\n",
       "      <td>Alcance</td>\n",
       "      <td>167158.0</td>\n",
       "      <td>3.367174</td>\n",
       "      <td>1.375815</td>\n",
       "      <td>...</td>\n",
       "      <td>1.710790</td>\n",
       "      <td>625</td>\n",
       "      <td>381.0</td>\n",
       "      <td>NaN</td>\n",
       "      <td>NaN</td>\n",
       "      <td>NaN</td>\n",
       "      <td>NaN</td>\n",
       "      <td>NaN</td>\n",
       "      <td>2024-01-01</td>\n",
       "      <td>2024-10-30</td>\n",
       "    </tr>\n",
       "    <tr>\n",
       "      <th>1</th>\n",
       "      <td>AD 01 - CARROSSEL - 18/06/2024</td>\n",
       "      <td>120917</td>\n",
       "      <td>253308</td>\n",
       "      <td>2.094892</td>\n",
       "      <td>640.82</td>\n",
       "      <td>Clique de 7 dias ou visualização de 1 dia</td>\n",
       "      <td>Alcance</td>\n",
       "      <td>120917.0</td>\n",
       "      <td>5.299668</td>\n",
       "      <td>2.529806</td>\n",
       "      <td>...</td>\n",
       "      <td>2.926119</td>\n",
       "      <td>481</td>\n",
       "      <td>262.0</td>\n",
       "      <td>NaN</td>\n",
       "      <td>NaN</td>\n",
       "      <td>NaN</td>\n",
       "      <td>NaN</td>\n",
       "      <td>NaN</td>\n",
       "      <td>2024-01-01</td>\n",
       "      <td>2024-10-30</td>\n",
       "    </tr>\n",
       "    <tr>\n",
       "      <th>2</th>\n",
       "      <td>AD 01 - VIDEO - 16/09/2024</td>\n",
       "      <td>95498</td>\n",
       "      <td>178060</td>\n",
       "      <td>1.864542</td>\n",
       "      <td>340.81</td>\n",
       "      <td>Clique de 7 dias ou visualização de 1 dia</td>\n",
       "      <td>Alcance</td>\n",
       "      <td>95498.0</td>\n",
       "      <td>3.568766</td>\n",
       "      <td>1.914018</td>\n",
       "      <td>...</td>\n",
       "      <td>170.405000</td>\n",
       "      <td>159</td>\n",
       "      <td>6643.0</td>\n",
       "      <td>4553.0</td>\n",
       "      <td>1840.0</td>\n",
       "      <td>1163.0</td>\n",
       "      <td>890.0</td>\n",
       "      <td>839.0</td>\n",
       "      <td>2024-01-01</td>\n",
       "      <td>2024-10-30</td>\n",
       "    </tr>\n",
       "    <tr>\n",
       "      <th>3</th>\n",
       "      <td>AD 01 - VIDEO - 01/10/2024</td>\n",
       "      <td>81964</td>\n",
       "      <td>159631</td>\n",
       "      <td>1.947575</td>\n",
       "      <td>297.95</td>\n",
       "      <td>Clique de 7 dias ou visualização de 1 dia</td>\n",
       "      <td>Alcance</td>\n",
       "      <td>81964.0</td>\n",
       "      <td>3.635133</td>\n",
       "      <td>1.866492</td>\n",
       "      <td>...</td>\n",
       "      <td>148.975000</td>\n",
       "      <td>124</td>\n",
       "      <td>4955.0</td>\n",
       "      <td>2660.0</td>\n",
       "      <td>1178.0</td>\n",
       "      <td>742.0</td>\n",
       "      <td>206.0</td>\n",
       "      <td>189.0</td>\n",
       "      <td>2024-01-01</td>\n",
       "      <td>2024-10-30</td>\n",
       "    </tr>\n",
       "    <tr>\n",
       "      <th>4</th>\n",
       "      <td>AD 01 - STORY - 16/10/2024</td>\n",
       "      <td>59677</td>\n",
       "      <td>74129</td>\n",
       "      <td>1.242170</td>\n",
       "      <td>119.48</td>\n",
       "      <td>Clique de 7 dias ou visualização de 1 dia</td>\n",
       "      <td>Alcance</td>\n",
       "      <td>59677.0</td>\n",
       "      <td>2.002111</td>\n",
       "      <td>1.611785</td>\n",
       "      <td>...</td>\n",
       "      <td>NaN</td>\n",
       "      <td>35</td>\n",
       "      <td>5.0</td>\n",
       "      <td>NaN</td>\n",
       "      <td>NaN</td>\n",
       "      <td>NaN</td>\n",
       "      <td>NaN</td>\n",
       "      <td>NaN</td>\n",
       "      <td>2024-01-01</td>\n",
       "      <td>2024-10-30</td>\n",
       "    </tr>\n",
       "  </tbody>\n",
       "</table>\n",
       "<p>5 rows × 27 columns</p>\n",
       "</div>"
      ],
      "text/plain": [
       "                       Nome do anúncio  Alcance  Impressões  Frequência  \\\n",
       "0  AD 01 - CARROSSEL FEED - 05/06/2024   167158      409103    2.447403   \n",
       "1       AD 01 - CARROSSEL - 18/06/2024   120917      253308    2.094892   \n",
       "2           AD 01 - VIDEO - 16/09/2024    95498      178060    1.864542   \n",
       "3           AD 01 - VIDEO - 01/10/2024    81964      159631    1.947575   \n",
       "4           AD 01 - STORY - 16/10/2024    59677       74129    1.242170   \n",
       "\n",
       "   Valor usado (BRL)                 Configuração de atribuição  \\\n",
       "0             562.85  Clique de 7 dias ou visualização de 1 dia   \n",
       "1             640.82  Clique de 7 dias ou visualização de 1 dia   \n",
       "2             340.81  Clique de 7 dias ou visualização de 1 dia   \n",
       "3             297.95  Clique de 7 dias ou visualização de 1 dia   \n",
       "4             119.48  Clique de 7 dias ou visualização de 1 dia   \n",
       "\n",
       "  Tipo de resultado  Resultados  Custo por resultado  \\\n",
       "0           Alcance    167158.0             3.367174   \n",
       "1           Alcance    120917.0             5.299668   \n",
       "2           Alcance     95498.0             3.568766   \n",
       "3           Alcance     81964.0             3.635133   \n",
       "4           Alcance     59677.0             2.002111   \n",
       "\n",
       "   CPM (custo por 1.000 impressões)  ...  CPC (custo por clique no link)  \\\n",
       "0                          1.375815  ...                        1.710790   \n",
       "1                          2.529806  ...                        2.926119   \n",
       "2                          1.914018  ...                      170.405000   \n",
       "3                          1.866492  ...                      148.975000   \n",
       "4                          1.611785  ...                             NaN   \n",
       "\n",
       "  Cliques (todos) Engajamento com a Página  Reproduções de 25% do vídeo  \\\n",
       "0             625                    381.0                          NaN   \n",
       "1             481                    262.0                          NaN   \n",
       "2             159                   6643.0                       4553.0   \n",
       "3             124                   4955.0                       2660.0   \n",
       "4              35                      5.0                          NaN   \n",
       "\n",
       "   Reproduções de 50% do vídeo  Reproduções de 75% do vídeo  \\\n",
       "0                          NaN                          NaN   \n",
       "1                          NaN                          NaN   \n",
       "2                       1840.0                       1163.0   \n",
       "3                       1178.0                        742.0   \n",
       "4                          NaN                          NaN   \n",
       "\n",
       "   Reproduções de 95% do vídeo  Reproduções de 100% do vídeo  \\\n",
       "0                          NaN                           NaN   \n",
       "1                          NaN                           NaN   \n",
       "2                        890.0                         839.0   \n",
       "3                        206.0                         189.0   \n",
       "4                          NaN                           NaN   \n",
       "\n",
       "   Início dos relatórios  Término dos relatórios  \n",
       "0             2024-01-01              2024-10-30  \n",
       "1             2024-01-01              2024-10-30  \n",
       "2             2024-01-01              2024-10-30  \n",
       "3             2024-01-01              2024-10-30  \n",
       "4             2024-01-01              2024-10-30  \n",
       "\n",
       "[5 rows x 27 columns]"
      ]
     },
     "metadata": {},
     "output_type": "display_data"
    }
   ],
   "source": [
    "# Exibe as primeiras 5 linhas do dataset\n",
    "print(\"Primeiras 5 linhas do dataset:\")\n",
    "display(dados_anuncios.head())"
   ]
  },
  {
   "cell_type": "code",
   "execution_count": 4,
   "metadata": {},
   "outputs": [
    {
     "name": "stdout",
     "output_type": "stream",
     "text": [
      "\n",
      "Resumo das colunas e tipos de dados:\n"
     ]
    },
    {
     "data": {
      "text/plain": [
       "Nome do anúncio                              object\n",
       "Alcance                                       int64\n",
       "Impressões                                    int64\n",
       "Frequência                                  float64\n",
       "Valor usado (BRL)                           float64\n",
       "Configuração de atribuição                   object\n",
       "Tipo de resultado                            object\n",
       "Resultados                                  float64\n",
       "Custo por resultado                         float64\n",
       "CPM (custo por 1.000 impressões)            float64\n",
       "CTR (todos)                                 float64\n",
       "Classificação de qualidade                   object\n",
       "Classificação da taxa de engajamento         object\n",
       "Custo por lead                              float64\n",
       "Valor médio de conversão de compra          float64\n",
       "Conversas por mensagem iniciadas            float64\n",
       "Custo por conversa por mensagem iniciada    float64\n",
       "CPC (custo por clique no link)              float64\n",
       "Cliques (todos)                               int64\n",
       "Engajamento com a Página                    float64\n",
       "Reproduções de 25% do vídeo                 float64\n",
       "Reproduções de 50% do vídeo                 float64\n",
       "Reproduções de 75% do vídeo                 float64\n",
       "Reproduções de 95% do vídeo                 float64\n",
       "Reproduções de 100% do vídeo                float64\n",
       "Início dos relatórios                        object\n",
       "Término dos relatórios                       object\n",
       "dtype: object"
      ]
     },
     "metadata": {},
     "output_type": "display_data"
    }
   ],
   "source": [
    "# Exibe tipos de dados de cada coluna\n",
    "print(\"\\nResumo das colunas e tipos de dados:\")\n",
    "display(dados_anuncios.dtypes)"
   ]
  },
  {
   "cell_type": "code",
   "execution_count": 5,
   "metadata": {},
   "outputs": [
    {
     "name": "stdout",
     "output_type": "stream",
     "text": [
      "\n",
      "Tipos de dados após conversão:\n",
      "Nome do anúncio                             string[python]\n",
      "Alcance                                              Int64\n",
      "Impressões                                           Int64\n",
      "Frequência                                         Float64\n",
      "Valor usado (BRL)                                  Float64\n",
      "Configuração de atribuição                  string[python]\n",
      "Tipo de resultado                           string[python]\n",
      "Resultados                                           Int64\n",
      "Custo por resultado                                Float64\n",
      "CPM (custo por 1.000 impressões)                   Float64\n",
      "CTR (todos)                                        Float64\n",
      "Classificação de qualidade                  string[python]\n",
      "Classificação da taxa de engajamento        string[python]\n",
      "Custo por lead                                       Int64\n",
      "Valor médio de conversão de compra                   Int64\n",
      "Conversas por mensagem iniciadas                     Int64\n",
      "Custo por conversa por mensagem iniciada           Float64\n",
      "CPC (custo por clique no link)                     Float64\n",
      "Cliques (todos)                                      Int64\n",
      "Engajamento com a Página                             Int64\n",
      "Reproduções de 25% do vídeo                          Int64\n",
      "Reproduções de 50% do vídeo                          Int64\n",
      "Reproduções de 75% do vídeo                          Int64\n",
      "Reproduções de 95% do vídeo                          Int64\n",
      "Reproduções de 100% do vídeo                         Int64\n",
      "Início dos relatórios                       string[python]\n",
      "Término dos relatórios                      string[python]\n",
      "dtype: object\n"
     ]
    }
   ],
   "source": [
    "# Conversão de tipos de dados e verificação de valores ausentes\n",
    "dados_anuncios = dados_anuncios.convert_dtypes()  # Converte colunas para tipos apropriados automaticamente\n",
    "print(\"\\nTipos de dados após conversão:\")\n",
    "print(dados_anuncios.dtypes)"
   ]
  },
  {
   "cell_type": "code",
   "execution_count": 6,
   "metadata": {},
   "outputs": [
    {
     "name": "stdout",
     "output_type": "stream",
     "text": [
      "\n",
      "Valores ausentes por coluna:\n",
      "Nome do anúncio                              0\n",
      "Alcance                                      0\n",
      "Impressões                                   0\n",
      "Frequência                                   0\n",
      "Valor usado (BRL)                            0\n",
      "Configuração de atribuição                  43\n",
      "Tipo de resultado                           43\n",
      "Resultados                                  51\n",
      "Custo por resultado                         51\n",
      "CPM (custo por 1.000 impressões)            43\n",
      "CTR (todos)                                 43\n",
      "Classificação de qualidade                   0\n",
      "Classificação da taxa de engajamento         0\n",
      "Custo por lead                              75\n",
      "Valor médio de conversão de compra          75\n",
      "Conversas por mensagem iniciadas            63\n",
      "Custo por conversa por mensagem iniciada    63\n",
      "CPC (custo por clique no link)              49\n",
      "Cliques (todos)                              0\n",
      "Engajamento com a Página                    45\n",
      "Reproduções de 25% do vídeo                 66\n",
      "Reproduções de 50% do vídeo                 67\n",
      "Reproduções de 75% do vídeo                 67\n",
      "Reproduções de 95% do vídeo                 67\n",
      "Reproduções de 100% do vídeo                67\n",
      "Início dos relatórios                        0\n",
      "Término dos relatórios                       0\n",
      "dtype: int64\n"
     ]
    }
   ],
   "source": [
    "print(\"\\nValores ausentes por coluna:\")\n",
    "print(dados_anuncios.isnull().sum())"
   ]
  },
  {
   "cell_type": "markdown",
   "metadata": {},
   "source": [
    "### Removendo linhas duplicadas\n",
    "### Vamos remover duplicatas, pois elas podem distorcer as métricas e análises dos dados de anúncios"
   ]
  },
  {
   "cell_type": "code",
   "execution_count": 7,
   "metadata": {},
   "outputs": [
    {
     "name": "stdout",
     "output_type": "stream",
     "text": [
      "Linhas duplicadas encontradas e que serão removidas:\n"
     ]
    }
   ],
   "source": [
    "# Identifica e exibe as linhas duplicadas antes de removê-las\n",
    "duplicatas = dados_anuncios[dados_anuncios.duplicated()]\n",
    "\n",
    "# Verifica se existem duplicatas e exibe uma mensagem\n",
    "if not duplicatas.empty:\n",
    "    print(\"Linhas duplicadas encontradas e que serão removidas:\")\n",
    "    duplicatas\n",
    "else:\n",
    "    print(\"Nenhuma linha duplicada encontrada.\")\n",
    "\n",
    "# Remove as linhas duplicadas\n",
    "dados_anuncios = dados_anuncios.drop_duplicates()\n"
   ]
  },
  {
   "cell_type": "markdown",
   "metadata": {},
   "source": [
    "### Removendo colunas vazias\n",
    "### Aqui, removeremos colunas que estejam completamente vazias, pois não contribuem para a análise"
   ]
  },
  {
   "cell_type": "code",
   "execution_count": 8,
   "metadata": {},
   "outputs": [],
   "source": [
    "dados_anuncios = dados_anuncios.dropna(axis=1, how='all')"
   ]
  },
  {
   "cell_type": "code",
   "execution_count": 9,
   "metadata": {},
   "outputs": [
    {
     "name": "stdout",
     "output_type": "stream",
     "text": [
      "\n",
      "Contagem de valores ausentes por coluna:\n"
     ]
    },
    {
     "data": {
      "text/plain": [
       "Nome do anúncio                              0\n",
       "Alcance                                      0\n",
       "Impressões                                   0\n",
       "Frequência                                   0\n",
       "Valor usado (BRL)                            0\n",
       "Configuração de atribuição                  27\n",
       "Tipo de resultado                           27\n",
       "Resultados                                  35\n",
       "Custo por resultado                         35\n",
       "CPM (custo por 1.000 impressões)            27\n",
       "CTR (todos)                                 27\n",
       "Classificação de qualidade                   0\n",
       "Classificação da taxa de engajamento         0\n",
       "Conversas por mensagem iniciadas            47\n",
       "Custo por conversa por mensagem iniciada    47\n",
       "CPC (custo por clique no link)              33\n",
       "Cliques (todos)                              0\n",
       "Engajamento com a Página                    29\n",
       "Reproduções de 25% do vídeo                 50\n",
       "Reproduções de 50% do vídeo                 51\n",
       "Reproduções de 75% do vídeo                 51\n",
       "Reproduções de 95% do vídeo                 51\n",
       "Reproduções de 100% do vídeo                51\n",
       "Início dos relatórios                        0\n",
       "Término dos relatórios                       0\n",
       "dtype: int64"
      ]
     },
     "metadata": {},
     "output_type": "display_data"
    }
   ],
   "source": [
    "# Contagem de valores ausentes por coluna\n",
    "print(\"\\nContagem de valores ausentes por coluna:\")\n",
    "display(dados_anuncios.isnull().sum())"
   ]
  },
  {
   "cell_type": "code",
   "execution_count": 10,
   "metadata": {},
   "outputs": [],
   "source": [
    "# Função para extrair a data\n",
    "def extrair_data(nome_anuncio):\n",
    "    match = re.search(r'\\d{2}/\\d{2}/\\d{4}', nome_anuncio)\n",
    "    return match.group(0) if match else None\n",
    "\n",
    "# Aplicando a função na coluna 'Nome do anúncio' e criando a nova coluna 'Data de criação'\n",
    "dados_anuncios['Data de criação'] = dados_anuncios['Nome do anúncio'].apply(extrair_data)\n"
   ]
  },
  {
   "cell_type": "markdown",
   "metadata": {},
   "source": [
    "# Ajuste de tipos das colunas"
   ]
  },
  {
   "cell_type": "code",
   "execution_count": 11,
   "metadata": {},
   "outputs": [
    {
     "data": {
      "text/plain": [
       "'pt_BR.UTF-8'"
      ]
     },
     "execution_count": 11,
     "metadata": {},
     "output_type": "execute_result"
    }
   ],
   "source": [
    "# Configura o locale para o Brasil\n",
    "locale.setlocale(locale.LC_ALL, 'pt_BR.UTF-8')"
   ]
  },
  {
   "cell_type": "code",
   "execution_count": 12,
   "metadata": {},
   "outputs": [
    {
     "name": "stdout",
     "output_type": "stream",
     "text": [
      "Datas nulas em 'Início dos relatórios':\n",
      "Empty DataFrame\n",
      "Columns: [Nome do anúncio, Alcance, Impressões, Frequência, Valor usado (BRL), Configuração de atribuição, Tipo de resultado, Resultados, Custo por resultado, CPM (custo por 1.000 impressões), CTR (todos), Classificação de qualidade, Classificação da taxa de engajamento, Conversas por mensagem iniciadas, Custo por conversa por mensagem iniciada, CPC (custo por clique no link), Cliques (todos), Engajamento com a Página, Reproduções de 25% do vídeo, Reproduções de 50% do vídeo, Reproduções de 75% do vídeo, Reproduções de 95% do vídeo, Reproduções de 100% do vídeo, Início dos relatórios, Término dos relatórios, Data de criação]\n",
      "Index: []\n",
      "\n",
      "[0 rows x 26 columns]\n",
      "Datas nulas em 'Término dos relatórios':\n",
      "Empty DataFrame\n",
      "Columns: [Nome do anúncio, Alcance, Impressões, Frequência, Valor usado (BRL), Configuração de atribuição, Tipo de resultado, Resultados, Custo por resultado, CPM (custo por 1.000 impressões), CTR (todos), Classificação de qualidade, Classificação da taxa de engajamento, Conversas por mensagem iniciadas, Custo por conversa por mensagem iniciada, CPC (custo por clique no link), Cliques (todos), Engajamento com a Página, Reproduções de 25% do vídeo, Reproduções de 50% do vídeo, Reproduções de 75% do vídeo, Reproduções de 95% do vídeo, Reproduções de 100% do vídeo, Início dos relatórios, Término dos relatórios, Data de criação]\n",
      "Index: []\n",
      "\n",
      "[0 rows x 26 columns]\n"
     ]
    }
   ],
   "source": [
    "\n",
    "# Função para formatar valores em moeda brasileira\n",
    "def formatar_moeda(valor):\n",
    "    return locale.currency(valor, grouping=True) if pd.notnull(valor) else valor\n",
    "\n",
    "# Função para converter datas para o formato padrão e exibi-las no formato brasileiro\n",
    "def converter_data(data):\n",
    "    for fmt in ('%d/%m/%Y', '%Y-%m-%d'):\n",
    "        try:\n",
    "            data_formatada = pd.to_datetime(data, format=fmt)\n",
    "            return data_formatada.strftime('%d/%m/%Y')  # Retorna em formato brasileiro\n",
    "        except ValueError:\n",
    "            continue\n",
    "    return pd.NaT  # Retorna NaT se nenhum formato for adequado\n",
    "\n",
    "# Aplicando as correções de tipos nas colunas conforme solicitado\n",
    "dados_anuncios = dados_anuncios.astype({\n",
    "    'Nome do anúncio': 'string',\n",
    "    'Alcance': 'int64',\n",
    "    'Impressões': 'int64',\n",
    "    'Frequência': 'float64',\n",
    "    'Configuração de atribuição': 'category',\n",
    "    'Tipo de resultado': 'category',\n",
    "    'Resultados': 'float64',\n",
    "    'Classificação de qualidade': 'category',\n",
    "    'Classificação da taxa de engajamento': 'category',\n",
    "    'Cliques (todos)': 'int64',\n",
    "    'Engajamento com a Página': 'float64',\n",
    "    'Reproduções de 25% do vídeo': 'float64',\n",
    "    'Reproduções de 50% do vídeo': 'float64',\n",
    "    'Reproduções de 75% do vídeo': 'float64',\n",
    "    'Reproduções de 95% do vídeo': 'float64',\n",
    "    'Reproduções de 100% do vídeo': 'float64'\n",
    "})\n",
    "\n",
    "# Aplicando a função de formatação de moeda nas colunas de valores monetários\n",
    "for coluna_monetaria in ['Valor usado (BRL)', 'Custo por resultado', 'CPM (custo por 1.000 impressões)', 'CPC (custo por clique no link)']:\n",
    "    dados_anuncios[coluna_monetaria] = dados_anuncios[coluna_monetaria].apply(formatar_moeda)\n",
    "\n",
    "# Convertendo datas para o formato brasileiro com a função converter_data\n",
    "dados_anuncios['Início dos relatórios'] = dados_anuncios['Início dos relatórios'].apply(converter_data)\n",
    "dados_anuncios['Término dos relatórios'] = dados_anuncios['Término dos relatórios'].apply(converter_data)\n",
    "\n",
    "# Verificando datas nulas após a conversão\n",
    "print(\"Datas nulas em 'Início dos relatórios':\")\n",
    "print(dados_anuncios[dados_anuncios['Início dos relatórios'].isnull()])\n",
    "\n",
    "print(\"Datas nulas em 'Término dos relatórios':\")\n",
    "print(dados_anuncios[dados_anuncios['Término dos relatórios'].isnull()])\n",
    "\n",
    "# Convertendo CTR para float64\n",
    "dados_anuncios['CTR (todos)'] = pd.to_numeric(dados_anuncios['CTR (todos)'], errors='coerce')\n"
   ]
  },
  {
   "cell_type": "code",
   "execution_count": 13,
   "metadata": {},
   "outputs": [
    {
     "name": "stdout",
     "output_type": "stream",
     "text": [
      "Anúncios excluídos:\n",
      "1. AD 04 - VÍDEO - 18 | 04\n",
      "2. AD 01 - STORIES - 21 | 12\n",
      "3. AD 03 - CARROSSEL - 17 | 08\n",
      "4. AD 04 - CARROSSEL 4  - 21 | 12\n",
      "5. AD 01 - CARROSSEL 1 - 18 | 04\n",
      "6. AD 02 - CARROSSEL 1 - 18 | 04\n",
      "7. AD 03 - CARROSSEL 3  - 21 | 12\n",
      "8. AD 01 IMAGEM ÚNICA - 06 | 10\n",
      "9. AD 03 - CARROSSEL - 18 | 08\n",
      "10. AD 03 - IMAGEM ÚNICA - 18 | 04\n",
      "11. AD 01 - CARROSSEL - 17 | 02\n",
      "12. AD 01 - IMAGEM ÚNICA - 18 | 08\n",
      "13. AD 03 - VÍDEO - 18 | 04\n",
      "14. AD 03 CARROSSEL - 06 | 10\n",
      "15. AD 02 IMAGEM ÚNICA - 06 | 10\n",
      "16. AD 02 - IMAGEM ÚNICA - 18 | 08\n",
      "17. AD 02 - IMAGEM ÚNICA - 17 | 08\n",
      "18. AD 01 - CARROSSEL 1 - 21 | 12\n",
      "19. AD 02 - IMAGEM ÚNICA - 14 | 07\n",
      "20. AD 02 - VÍDEO - 18 | 04\n",
      "21. AD 01 - VÍDEO - 30 | 06\n",
      "22. AD 01 - VÍDEO - 18 | 04\n",
      "23. AD 01 - IMAGEM ÚNICA - 17 | 08\n",
      "24. AD 02 - CARROSSEL 2 - 18 | 04\n",
      "25. AD 02 - CARROSSEL 2  - 21 | 12\n",
      "26. AD 01 - IMAGEM ÚNICA - 14 | 07\n",
      "27. AD 01 - ESPECIAL - 21 | 12\n"
     ]
    }
   ],
   "source": [
    "# Identificar as linhas onde o valor de 'Alcance' é igual a zero\n",
    "linhas_excluir = dados_anuncios[dados_anuncios['Alcance'] == 0]\n",
    "\n",
    "# Extrair os nomes dos anúncios que serão excluídos\n",
    "anuncios_excluidos = linhas_excluir['Nome do anúncio'].tolist()\n",
    "\n",
    "# Imprimir os nomes dos anúncios que serão excluídos de forma mais bonita\n",
    "print(\"Anúncios excluídos:\")\n",
    "for i, anuncio in enumerate(anuncios_excluidos, start=1):\n",
    "    print(f\"{i}. {anuncio}\")\n",
    "\n",
    "# Excluir as linhas onde 'Alcance' é igual a zero do DataFrame original\n",
    "dados_anuncios = dados_anuncios[dados_anuncios['Alcance'] != 0]\n",
    "\n",
    "# Resetar o índice após a exclusão\n",
    "dados_anuncios.reset_index(drop=True, inplace=True)\n"
   ]
  },
  {
   "cell_type": "markdown",
   "metadata": {},
   "source": [
    "A tabela mostra as reproduções de vídeo em diferentes estágios: 25%, 50%, 75%, 95% e 100%. Isso ajuda a avaliar o engajamento e retenção do público ao longo do vídeo.\n",
    "\n",
    "- **Valores acima de zero** indicam o número de vezes que o vídeo foi assistido até certo ponto (25%, 50%, etc.), mostrando que o público estava engajado.\n",
    "- **Valores zero** (substituídos onde havia `NaN`) indicam ausência de visualizações até aquele ponto em alguns anúncios, sugerindo que o vídeo não conseguiu prender o público.\n",
    "\n",
    "À medida que as reproduções se aproximam de 100%, uma queda é esperada, indicando perda de interesse ao longo do vídeo. Um número significativo de reproduções até 100% indica um vídeo envolvente. Esses dados ajudam a entender onde o público desiste e se ajustes no conteúdo são necessários.\n",
    "\n",
    "\n",
    "### Quais são os riscos de substituir valores ausentes (NaN) por zero em uma análise de dados e quais alternativas podem minimizar o viés?\n",
    "\n",
    "Substituir `NaN` por zero pode enviesar a análise se `NaN` não significar realmente \"nenhuma visualização\", pois pode indicar dados não coletados. Isso pode reduzir as médias e aumentar a variabilidade, sugerindo que o público desistiu mais cedo do que realmente ocorreu.\n",
    "\n",
    "### Alternativas:\n",
    "- **Analisar Separadamente** as campanhas com `NaN`.\n",
    "- **Imputar Mediana ou Média** para substituir `NaN` com base em campanhas semelhantes.\n",
    "- **Manter `NaN`** e ajustar a análise para ignorar valores ausentes.\n",
    "\n",
    "Essas abordagens ajudam a evitar conclusões distorcidas e garantem uma análise mais precisa."
   ]
  },
  {
   "cell_type": "code",
   "execution_count": 14,
   "metadata": {},
   "outputs": [],
   "source": [
    "# Colunas com valores de reproduções de vídeo que podem ser substituídos por 0, onde NaN significa 'sem reproduções'\n",
    "colunas_reproducoes = [\n",
    "    \"Reproduções de 25% do vídeo\",\n",
    "    \"Reproduções de 50% do vídeo\",\n",
    "    \"Reproduções de 75% do vídeo\",\n",
    "    \"Reproduções de 95% do vídeo\",\n",
    "    \"Reproduções de 100% do vídeo\",\n",
    "]\n",
    "\n",
    "# Substituição de valores NaN por zero\n",
    "dados_anuncios[colunas_reproducoes] = dados_anuncios[colunas_reproducoes].fillna(0)"
   ]
  },
  {
   "cell_type": "code",
   "execution_count": 15,
   "metadata": {},
   "outputs": [],
   "source": [
    "dados_anuncios.to_csv(\"miro_dados_limpos_desde_janeiro.csv\", index=False) "
   ]
  }
 ],
 "metadata": {
  "kernelspec": {
   "display_name": "Python 3",
   "language": "python",
   "name": "python3"
  },
  "language_info": {
   "codemirror_mode": {
    "name": "ipython",
    "version": 3
   },
   "file_extension": ".py",
   "mimetype": "text/x-python",
   "name": "python",
   "nbconvert_exporter": "python",
   "pygments_lexer": "ipython3",
   "version": "3.11.9"
  }
 },
 "nbformat": 4,
 "nbformat_minor": 2
}
