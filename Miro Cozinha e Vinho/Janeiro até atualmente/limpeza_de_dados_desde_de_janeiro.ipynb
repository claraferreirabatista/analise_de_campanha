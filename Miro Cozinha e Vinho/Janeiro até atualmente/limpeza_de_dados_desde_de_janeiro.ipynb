{
 "cells": [
  {
   "cell_type": "markdown",
   "metadata": {},
   "source": [
    "### Importando as bibliotecas necessárias"
   ]
  },
  {
   "cell_type": "code",
   "execution_count": 1,
   "metadata": {},
   "outputs": [
    {
     "name": "stderr",
     "output_type": "stream",
     "text": [
      "/usr/lib/python3/dist-packages/scipy/__init__.py:146: UserWarning: A NumPy version >=1.17.3 and <1.25.0 is required for this version of SciPy (detected version 1.25.2\n",
      "  warnings.warn(f\"A NumPy version >={np_minversion} and <{np_maxversion}\"\n"
     ]
    }
   ],
   "source": [
    "import pandas as pd\n",
    "import numpy as np\n",
    "import matplotlib.pyplot as plt\n",
    "import seaborn as sns\n",
    "import locale\n",
    "import openpyxl\n",
    "import re\n",
    "import warnings\n",
    "warnings.filterwarnings('ignore')"
   ]
  },
  {
   "cell_type": "markdown",
   "metadata": {},
   "source": [
    "#### Carregando o arquivo CSV em um DataFrame\n",
    "#### Neste passo, carregaremos o arquivo CSV com os dados dos anúncios em um DataFrame do pandas\n",
    "#### Certifique-se de ter o arquivo 'miro_dados_brutos_desde_janeiro.csv' no mesmo diretório deste notebook"
   ]
  },
  {
   "cell_type": "code",
   "execution_count": 2,
   "metadata": {},
   "outputs": [],
   "source": [
    "dados_anuncios = pd.read_csv('miro_dados_brutos_desde_janeiro.csv')"
   ]
  },
  {
   "cell_type": "code",
   "execution_count": 3,
   "metadata": {},
   "outputs": [
    {
     "name": "stdout",
     "output_type": "stream",
     "text": [
      "Primeiras 5 linhas do dataset:\n"
     ]
    },
    {
     "data": {
      "text/html": [
       "<div>\n",
       "<style scoped>\n",
       "    .dataframe tbody tr th:only-of-type {\n",
       "        vertical-align: middle;\n",
       "    }\n",
       "\n",
       "    .dataframe tbody tr th {\n",
       "        vertical-align: top;\n",
       "    }\n",
       "\n",
       "    .dataframe thead th {\n",
       "        text-align: right;\n",
       "    }\n",
       "</style>\n",
       "<table border=\"1\" class=\"dataframe\">\n",
       "  <thead>\n",
       "    <tr style=\"text-align: right;\">\n",
       "      <th></th>\n",
       "      <th>Nome do anúncio</th>\n",
       "      <th>Alcance</th>\n",
       "      <th>Impressões</th>\n",
       "      <th>Frequência</th>\n",
       "      <th>Valor usado (BRL)</th>\n",
       "      <th>Cliques (todos)</th>\n",
       "      <th>CPC (todos)</th>\n",
       "      <th>CTR (todos)</th>\n",
       "      <th>CPM (custo por 1.000 impressões)</th>\n",
       "      <th>Engajamento com a Página</th>\n",
       "      <th>...</th>\n",
       "      <th>Resultados</th>\n",
       "      <th>Custo por resultado</th>\n",
       "      <th>Classificação de qualidade</th>\n",
       "      <th>Contatos por mensagem</th>\n",
       "      <th>Novos contatos de mensagem</th>\n",
       "      <th>CTR único (todos)</th>\n",
       "      <th>Custo por clique único (todos)</th>\n",
       "      <th>CPC (custo por clique no link)</th>\n",
       "      <th>Início dos relatórios</th>\n",
       "      <th>Término dos relatórios</th>\n",
       "    </tr>\n",
       "  </thead>\n",
       "  <tbody>\n",
       "    <tr>\n",
       "      <th>0</th>\n",
       "      <td>AD 01 - VÍDEO STORIES - 04/04/24</td>\n",
       "      <td>42284</td>\n",
       "      <td>172197</td>\n",
       "      <td>4.072391</td>\n",
       "      <td>641.46</td>\n",
       "      <td>109</td>\n",
       "      <td>5.884954</td>\n",
       "      <td>0.063300</td>\n",
       "      <td>3.725152</td>\n",
       "      <td>17748.0</td>\n",
       "      <td>...</td>\n",
       "      <td>25807.0</td>\n",
       "      <td>0.024856</td>\n",
       "      <td>–</td>\n",
       "      <td>NaN</td>\n",
       "      <td>NaN</td>\n",
       "      <td>0.236496</td>\n",
       "      <td>6.414600</td>\n",
       "      <td>128.292000</td>\n",
       "      <td>2024-01-01</td>\n",
       "      <td>2024-11-03</td>\n",
       "    </tr>\n",
       "    <tr>\n",
       "      <th>1</th>\n",
       "      <td>AD 01 - CARROSSEL - 18/06/2024</td>\n",
       "      <td>120917</td>\n",
       "      <td>253308</td>\n",
       "      <td>2.094892</td>\n",
       "      <td>640.82</td>\n",
       "      <td>481</td>\n",
       "      <td>1.332266</td>\n",
       "      <td>0.189887</td>\n",
       "      <td>2.529806</td>\n",
       "      <td>262.0</td>\n",
       "      <td>...</td>\n",
       "      <td>120917.0</td>\n",
       "      <td>5.299668</td>\n",
       "      <td>–</td>\n",
       "      <td>2.0</td>\n",
       "      <td>2.0</td>\n",
       "      <td>0.372156</td>\n",
       "      <td>1.424044</td>\n",
       "      <td>2.926119</td>\n",
       "      <td>2024-01-01</td>\n",
       "      <td>2024-11-03</td>\n",
       "    </tr>\n",
       "    <tr>\n",
       "      <th>2</th>\n",
       "      <td>AD 01 - CARROSSEL FEED - 05/06/2024</td>\n",
       "      <td>167158</td>\n",
       "      <td>409103</td>\n",
       "      <td>2.447403</td>\n",
       "      <td>562.85</td>\n",
       "      <td>625</td>\n",
       "      <td>0.900560</td>\n",
       "      <td>0.152773</td>\n",
       "      <td>1.375815</td>\n",
       "      <td>381.0</td>\n",
       "      <td>...</td>\n",
       "      <td>167158.0</td>\n",
       "      <td>3.367174</td>\n",
       "      <td>–</td>\n",
       "      <td>1.0</td>\n",
       "      <td>5.0</td>\n",
       "      <td>0.355951</td>\n",
       "      <td>0.945966</td>\n",
       "      <td>1.710790</td>\n",
       "      <td>2024-01-01</td>\n",
       "      <td>2024-11-03</td>\n",
       "    </tr>\n",
       "    <tr>\n",
       "      <th>3</th>\n",
       "      <td>AD 01 - VIDEO - 16/09/2024</td>\n",
       "      <td>95498</td>\n",
       "      <td>178060</td>\n",
       "      <td>1.864542</td>\n",
       "      <td>340.81</td>\n",
       "      <td>159</td>\n",
       "      <td>2.143459</td>\n",
       "      <td>0.089296</td>\n",
       "      <td>1.914018</td>\n",
       "      <td>6643.0</td>\n",
       "      <td>...</td>\n",
       "      <td>95498.0</td>\n",
       "      <td>3.568766</td>\n",
       "      <td>Acima da média</td>\n",
       "      <td>NaN</td>\n",
       "      <td>NaN</td>\n",
       "      <td>0.163354</td>\n",
       "      <td>2.184679</td>\n",
       "      <td>170.405000</td>\n",
       "      <td>2024-01-01</td>\n",
       "      <td>2024-11-03</td>\n",
       "    </tr>\n",
       "    <tr>\n",
       "      <th>4</th>\n",
       "      <td>AD 01 - VIDEO - 01/10/2024</td>\n",
       "      <td>81964</td>\n",
       "      <td>159631</td>\n",
       "      <td>1.947575</td>\n",
       "      <td>297.95</td>\n",
       "      <td>124</td>\n",
       "      <td>2.402823</td>\n",
       "      <td>0.077679</td>\n",
       "      <td>1.866492</td>\n",
       "      <td>4955.0</td>\n",
       "      <td>...</td>\n",
       "      <td>81964.0</td>\n",
       "      <td>3.635133</td>\n",
       "      <td>Acima da média</td>\n",
       "      <td>NaN</td>\n",
       "      <td>NaN</td>\n",
       "      <td>0.145186</td>\n",
       "      <td>2.503782</td>\n",
       "      <td>148.975000</td>\n",
       "      <td>2024-01-01</td>\n",
       "      <td>2024-11-03</td>\n",
       "    </tr>\n",
       "  </tbody>\n",
       "</table>\n",
       "<p>5 rows × 29 columns</p>\n",
       "</div>"
      ],
      "text/plain": [
       "                       Nome do anúncio  Alcance  Impressões  Frequência  \\\n",
       "0     AD 01 - VÍDEO STORIES - 04/04/24    42284      172197    4.072391   \n",
       "1       AD 01 - CARROSSEL - 18/06/2024   120917      253308    2.094892   \n",
       "2  AD 01 - CARROSSEL FEED - 05/06/2024   167158      409103    2.447403   \n",
       "3           AD 01 - VIDEO - 16/09/2024    95498      178060    1.864542   \n",
       "4           AD 01 - VIDEO - 01/10/2024    81964      159631    1.947575   \n",
       "\n",
       "   Valor usado (BRL)  Cliques (todos)  CPC (todos)  CTR (todos)  \\\n",
       "0             641.46              109     5.884954     0.063300   \n",
       "1             640.82              481     1.332266     0.189887   \n",
       "2             562.85              625     0.900560     0.152773   \n",
       "3             340.81              159     2.143459     0.089296   \n",
       "4             297.95              124     2.402823     0.077679   \n",
       "\n",
       "   CPM (custo por 1.000 impressões)  Engajamento com a Página  ...  \\\n",
       "0                          3.725152                   17748.0  ...   \n",
       "1                          2.529806                     262.0  ...   \n",
       "2                          1.375815                     381.0  ...   \n",
       "3                          1.914018                    6643.0  ...   \n",
       "4                          1.866492                    4955.0  ...   \n",
       "\n",
       "   Resultados  Custo por resultado  Classificação de qualidade  \\\n",
       "0     25807.0             0.024856                           –   \n",
       "1    120917.0             5.299668                           –   \n",
       "2    167158.0             3.367174                           –   \n",
       "3     95498.0             3.568766              Acima da média   \n",
       "4     81964.0             3.635133              Acima da média   \n",
       "\n",
       "   Contatos por mensagem  Novos contatos de mensagem  CTR único (todos)  \\\n",
       "0                    NaN                         NaN           0.236496   \n",
       "1                    2.0                         2.0           0.372156   \n",
       "2                    1.0                         5.0           0.355951   \n",
       "3                    NaN                         NaN           0.163354   \n",
       "4                    NaN                         NaN           0.145186   \n",
       "\n",
       "   Custo por clique único (todos) CPC (custo por clique no link)  \\\n",
       "0                        6.414600                     128.292000   \n",
       "1                        1.424044                       2.926119   \n",
       "2                        0.945966                       1.710790   \n",
       "3                        2.184679                     170.405000   \n",
       "4                        2.503782                     148.975000   \n",
       "\n",
       "  Início dos relatórios  Término dos relatórios  \n",
       "0            2024-01-01              2024-11-03  \n",
       "1            2024-01-01              2024-11-03  \n",
       "2            2024-01-01              2024-11-03  \n",
       "3            2024-01-01              2024-11-03  \n",
       "4            2024-01-01              2024-11-03  \n",
       "\n",
       "[5 rows x 29 columns]"
      ]
     },
     "metadata": {},
     "output_type": "display_data"
    }
   ],
   "source": [
    "# Exibe as primeiras 5 linhas do dataset\n",
    "print(\"Primeiras 5 linhas do dataset:\")\n",
    "display(dados_anuncios.head())"
   ]
  },
  {
   "cell_type": "markdown",
   "metadata": {},
   "source": [
    "### Verificação de tipos e conversão para tipos mais apropriados"
   ]
  },
  {
   "cell_type": "code",
   "execution_count": 4,
   "metadata": {},
   "outputs": [
    {
     "name": "stdout",
     "output_type": "stream",
     "text": [
      "\n",
      "Resumo das colunas e tipos de dados:\n"
     ]
    },
    {
     "data": {
      "text/plain": [
       "Nome do anúncio                      object\n",
       "Alcance                               int64\n",
       "Impressões                            int64\n",
       "Frequência                          float64\n",
       "Valor usado (BRL)                   float64\n",
       "Cliques (todos)                       int64\n",
       "CPC (todos)                         float64\n",
       "CTR (todos)                         float64\n",
       "CPM (custo por 1.000 impressões)    float64\n",
       "Engajamento com a Página            float64\n",
       "Conversas por mensagem iniciadas    float64\n",
       "Reproduções de 25% do vídeo         float64\n",
       "Reproduções de 50% do vídeo         float64\n",
       "Reproduções de 75% do vídeo         float64\n",
       "Reproduções de 95% do vídeo         float64\n",
       "Reproduções de 100% do vídeo        float64\n",
       "Orçamento da campanha               float64\n",
       "Tipo de orçamento da campanha        object\n",
       "Tipo de resultado                    object\n",
       "Resultados                          float64\n",
       "Custo por resultado                 float64\n",
       "Classificação de qualidade           object\n",
       "Contatos por mensagem               float64\n",
       "Novos contatos de mensagem          float64\n",
       "CTR único (todos)                   float64\n",
       "Custo por clique único (todos)      float64\n",
       "CPC (custo por clique no link)      float64\n",
       "Início dos relatórios                object\n",
       "Término dos relatórios               object\n",
       "dtype: object"
      ]
     },
     "metadata": {},
     "output_type": "display_data"
    }
   ],
   "source": [
    "# Exibe tipos de dados de cada coluna\n",
    "print(\"\\nResumo das colunas e tipos de dados:\")\n",
    "display(dados_anuncios.dtypes)"
   ]
  },
  {
   "cell_type": "code",
   "execution_count": 5,
   "metadata": {},
   "outputs": [
    {
     "name": "stdout",
     "output_type": "stream",
     "text": [
      "\n",
      "Tipos de dados após conversão:\n",
      "Nome do anúncio                     string[python]\n",
      "Alcance                                      Int64\n",
      "Impressões                                   Int64\n",
      "Frequência                                 Float64\n",
      "Valor usado (BRL)                          Float64\n",
      "Cliques (todos)                              Int64\n",
      "CPC (todos)                                Float64\n",
      "CTR (todos)                                Float64\n",
      "CPM (custo por 1.000 impressões)           Float64\n",
      "Engajamento com a Página                     Int64\n",
      "Conversas por mensagem iniciadas             Int64\n",
      "Reproduções de 25% do vídeo                  Int64\n",
      "Reproduções de 50% do vídeo                  Int64\n",
      "Reproduções de 75% do vídeo                  Int64\n",
      "Reproduções de 95% do vídeo                  Int64\n",
      "Reproduções de 100% do vídeo                 Int64\n",
      "Orçamento da campanha                      Float64\n",
      "Tipo de orçamento da campanha       string[python]\n",
      "Tipo de resultado                   string[python]\n",
      "Resultados                                   Int64\n",
      "Custo por resultado                        Float64\n",
      "Classificação de qualidade          string[python]\n",
      "Contatos por mensagem                        Int64\n",
      "Novos contatos de mensagem                   Int64\n",
      "CTR único (todos)                          Float64\n",
      "Custo por clique único (todos)             Float64\n",
      "CPC (custo por clique no link)             Float64\n",
      "Início dos relatórios               string[python]\n",
      "Término dos relatórios              string[python]\n",
      "dtype: object\n"
     ]
    }
   ],
   "source": [
    "# Conversão de tipos de dados\n",
    "dados_anuncios = dados_anuncios.convert_dtypes()  # Converte colunas para tipos apropriados automaticamente\n",
    "print(\"\\nTipos de dados após conversão:\")\n",
    "print(dados_anuncios.dtypes)"
   ]
  },
  {
   "cell_type": "markdown",
   "metadata": {},
   "source": [
    "### Verificação de Valores Ausentes: Adiciona uma análise de valores ausentes por coluna, permitindo identificar colunas que necessitam de tratamento adicional."
   ]
  },
  {
   "cell_type": "code",
   "execution_count": 6,
   "metadata": {},
   "outputs": [
    {
     "name": "stdout",
     "output_type": "stream",
     "text": [
      "\n",
      "Valores ausentes por coluna:\n",
      "Nome do anúncio                      0\n",
      "Alcance                              0\n",
      "Impressões                           0\n",
      "Frequência                           0\n",
      "Valor usado (BRL)                    0\n",
      "Cliques (todos)                      0\n",
      "CPC (todos)                          1\n",
      "CTR (todos)                          0\n",
      "CPM (custo por 1.000 impressões)     0\n",
      "Engajamento com a Página             2\n",
      "Conversas por mensagem iniciadas    20\n",
      "Reproduções de 25% do vídeo         23\n",
      "Reproduções de 50% do vídeo         24\n",
      "Reproduções de 75% do vídeo         24\n",
      "Reproduções de 95% do vídeo         24\n",
      "Reproduções de 100% do vídeo        24\n",
      "Orçamento da campanha                0\n",
      "Tipo de orçamento da campanha        0\n",
      "Tipo de resultado                    8\n",
      "Resultados                           8\n",
      "Custo por resultado                  8\n",
      "Classificação de qualidade           0\n",
      "Contatos por mensagem               30\n",
      "Novos contatos de mensagem          22\n",
      "CTR único (todos)                    1\n",
      "Custo por clique único (todos)       1\n",
      "CPC (custo por clique no link)       6\n",
      "Início dos relatórios                0\n",
      "Término dos relatórios               0\n",
      "dtype: int64\n"
     ]
    }
   ],
   "source": [
    "#verificação de valores ausentes\n",
    "print(\"\\nValores ausentes por coluna:\")\n",
    "print(dados_anuncios.isnull().sum())"
   ]
  },
  {
   "cell_type": "markdown",
   "metadata": {},
   "source": [
    "### Removendo linhas duplicadas\n",
    "### Vamos remover duplicatas, pois elas podem distorcer as métricas e análises dos dados de anúncios"
   ]
  },
  {
   "cell_type": "code",
   "execution_count": 7,
   "metadata": {},
   "outputs": [
    {
     "name": "stdout",
     "output_type": "stream",
     "text": [
      "Nenhuma linha duplicada encontrada.\n"
     ]
    }
   ],
   "source": [
    "# Identifica e exibe as linhas duplicadas antes de removê-las\n",
    "duplicatas = dados_anuncios[dados_anuncios.duplicated()]\n",
    "\n",
    "# Verifica se existem duplicatas e exibe uma mensagem\n",
    "if not duplicatas.empty:\n",
    "    print(\"Linhas duplicadas encontradas e que serão removidas:\")\n",
    "    display(duplicatas)  # Use a função display para exibir o DataFrame no Jupyter Notebook ou em ambientes compatíveis\n",
    "else:\n",
    "    print(\"Nenhuma linha duplicada encontrada.\")\n",
    "\n",
    "# Remove as linhas duplicadas\n",
    "dados_anuncios = dados_anuncios.drop_duplicates()\n"
   ]
  },
  {
   "cell_type": "markdown",
   "metadata": {},
   "source": [
    "### Removendo colunas vazias\n",
    "### Aqui, removeremos colunas que estejam completamente vazias, pois não contribuem para a análise"
   ]
  },
  {
   "cell_type": "code",
   "execution_count": 8,
   "metadata": {},
   "outputs": [
    {
     "name": "stdout",
     "output_type": "stream",
     "text": [
      "Nenhuma coluna completamente vazia encontrada.\n"
     ]
    }
   ],
   "source": [
    "# Identifica colunas que estão completamente vazias (apenas NaN)\n",
    "colunas_vazias = dados_anuncios.columns[dados_anuncios.isna().all()].tolist()\n",
    "\n",
    "# Verifica se existem colunas vazias e exibe uma mensagem\n",
    "if colunas_vazias:\n",
    "    print(\"As seguintes colunas estão completamente vazias e serão removidas:\")\n",
    "    print(colunas_vazias)\n",
    "else:\n",
    "    print(\"Nenhuma coluna completamente vazia encontrada.\")\n",
    "\n",
    "# Remove as colunas completamente vazias\n",
    "dados_anuncios = dados_anuncios.dropna(axis=1, how='all')\n"
   ]
  },
  {
   "cell_type": "code",
   "execution_count": 9,
   "metadata": {},
   "outputs": [
    {
     "name": "stdout",
     "output_type": "stream",
     "text": [
      "\n",
      "Contagem de valores ausentes por coluna:\n"
     ]
    },
    {
     "data": {
      "text/plain": [
       "Nome do anúncio                      0\n",
       "Alcance                              0\n",
       "Impressões                           0\n",
       "Frequência                           0\n",
       "Valor usado (BRL)                    0\n",
       "Cliques (todos)                      0\n",
       "CPC (todos)                          1\n",
       "CTR (todos)                          0\n",
       "CPM (custo por 1.000 impressões)     0\n",
       "Engajamento com a Página             2\n",
       "Conversas por mensagem iniciadas    20\n",
       "Reproduções de 25% do vídeo         23\n",
       "Reproduções de 50% do vídeo         24\n",
       "Reproduções de 75% do vídeo         24\n",
       "Reproduções de 95% do vídeo         24\n",
       "Reproduções de 100% do vídeo        24\n",
       "Orçamento da campanha                0\n",
       "Tipo de orçamento da campanha        0\n",
       "Tipo de resultado                    8\n",
       "Resultados                           8\n",
       "Custo por resultado                  8\n",
       "Classificação de qualidade           0\n",
       "Contatos por mensagem               30\n",
       "Novos contatos de mensagem          22\n",
       "CTR único (todos)                    1\n",
       "Custo por clique único (todos)       1\n",
       "CPC (custo por clique no link)       6\n",
       "Início dos relatórios                0\n",
       "Término dos relatórios               0\n",
       "dtype: int64"
      ]
     },
     "metadata": {},
     "output_type": "display_data"
    }
   ],
   "source": [
    "# Contagem de valores ausentes por coluna\n",
    "print(\"\\nContagem de valores ausentes por coluna:\")\n",
    "display(dados_anuncios.isnull().sum())"
   ]
  },
  {
   "cell_type": "code",
   "execution_count": 10,
   "metadata": {},
   "outputs": [
    {
     "name": "stdout",
     "output_type": "stream",
     "text": [
      "Anúncios excluídos:\n"
     ]
    }
   ],
   "source": [
    "# Identificar as linhas onde o valor de 'Alcance' é igual a zero\n",
    "linhas_excluir = dados_anuncios[dados_anuncios['Alcance'] == 0]\n",
    "\n",
    "# Extrair os nomes dos anúncios que serão excluídos\n",
    "anuncios_excluidos = linhas_excluir['Nome do anúncio'].tolist()\n",
    "\n",
    "# Imprimir os nomes dos anúncios que serão excluídos de forma mais bonita\n",
    "print(\"Anúncios excluídos:\")\n",
    "for i, anuncio in enumerate(anuncios_excluidos, start=1):\n",
    "    print(f\"{i}. {anuncio}\")\n",
    "\n",
    "# Excluir as linhas onde 'Alcance' é igual a zero do DataFrame original\n",
    "dados_anuncios = dados_anuncios[dados_anuncios['Alcance'] != 0]\n",
    "\n",
    "# Resetar o índice após a exclusão\n",
    "dados_anuncios.reset_index(drop=True, inplace=True)"
   ]
  },
  {
   "cell_type": "markdown",
   "metadata": {},
   "source": [
    "# Ajuste de tipos das colunas"
   ]
  },
  {
   "cell_type": "code",
   "execution_count": 11,
   "metadata": {},
   "outputs": [],
   "source": [
    "# Colunas com valores de reproduções de vídeo que podem ser substituídos por 0, onde NaN significa 'sem reproduções'\n",
    "colunas_reproducoes = [\n",
    "    \"Reproduções de 25% do vídeo\",\n",
    "    \"Reproduções de 50% do vídeo\",\n",
    "    \"Reproduções de 75% do vídeo\",\n",
    "    \"Reproduções de 95% do vídeo\",\n",
    "    \"Reproduções de 100% do vídeo\",\n",
    "]\n",
    "\n",
    "# Substituição de valores NaN por zero\n",
    "dados_anuncios[colunas_reproducoes] = dados_anuncios[colunas_reproducoes].fillna(0)"
   ]
  },
  {
   "cell_type": "code",
   "execution_count": 12,
   "metadata": {},
   "outputs": [
    {
     "name": "stdout",
     "output_type": "stream",
     "text": [
      "<class 'pandas.core.frame.DataFrame'>\n",
      "RangeIndex: 32 entries, 0 to 31\n",
      "Data columns (total 29 columns):\n",
      " #   Column                            Non-Null Count  Dtype  \n",
      "---  ------                            --------------  -----  \n",
      " 0   Nome do anúncio                   32 non-null     string \n",
      " 1   Alcance                           32 non-null     Int64  \n",
      " 2   Impressões                        32 non-null     Int64  \n",
      " 3   Frequência                        32 non-null     Float64\n",
      " 4   Valor usado (BRL)                 32 non-null     Float64\n",
      " 5   Cliques (todos)                   32 non-null     Int64  \n",
      " 6   CPC (todos)                       31 non-null     Float64\n",
      " 7   CTR (todos)                       32 non-null     Float64\n",
      " 8   CPM (custo por 1.000 impressões)  32 non-null     Float64\n",
      " 9   Engajamento com a Página          30 non-null     Int64  \n",
      " 10  Conversas por mensagem iniciadas  12 non-null     Int64  \n",
      " 11  Reproduções de 25% do vídeo       32 non-null     Int64  \n",
      " 12  Reproduções de 50% do vídeo       32 non-null     Int64  \n",
      " 13  Reproduções de 75% do vídeo       32 non-null     Int64  \n",
      " 14  Reproduções de 95% do vídeo       32 non-null     Int64  \n",
      " 15  Reproduções de 100% do vídeo      32 non-null     Int64  \n",
      " 16  Orçamento da campanha             32 non-null     Float64\n",
      " 17  Tipo de orçamento da campanha     32 non-null     string \n",
      " 18  Tipo de resultado                 24 non-null     string \n",
      " 19  Resultados                        24 non-null     Int64  \n",
      " 20  Custo por resultado               24 non-null     Float64\n",
      " 21  Classificação de qualidade        32 non-null     string \n",
      " 22  Contatos por mensagem             2 non-null      Int64  \n",
      " 23  Novos contatos de mensagem        10 non-null     Int64  \n",
      " 24  CTR único (todos)                 31 non-null     Float64\n",
      " 25  Custo por clique único (todos)    31 non-null     Float64\n",
      " 26  CPC (custo por clique no link)    26 non-null     Float64\n",
      " 27  Início dos relatórios             32 non-null     string \n",
      " 28  Término dos relatórios            32 non-null     string \n",
      "dtypes: Float64(10), Int64(13), string(6)\n",
      "memory usage: 8.1 KB\n"
     ]
    }
   ],
   "source": [
    "dados_anuncios.info()"
   ]
  },
  {
   "cell_type": "code",
   "execution_count": 13,
   "metadata": {},
   "outputs": [],
   "source": [
    "dados_anuncios.to_csv(\"miro_dados_limpos_desde_janeiro.csv\", index=False) "
   ]
  }
 ],
 "metadata": {
  "kernelspec": {
   "display_name": "Python 3",
   "language": "python",
   "name": "python3"
  },
  "language_info": {
   "codemirror_mode": {
    "name": "ipython",
    "version": 3
   },
   "file_extension": ".py",
   "mimetype": "text/x-python",
   "name": "python",
   "nbconvert_exporter": "python",
   "pygments_lexer": "ipython3",
   "version": "3.10.12"
  }
 },
 "nbformat": 4,
 "nbformat_minor": 2
}
