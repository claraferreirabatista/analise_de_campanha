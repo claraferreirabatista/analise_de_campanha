{
 "cells": [
  {
   "cell_type": "code",
   "execution_count": 1,
   "metadata": {},
   "outputs": [
    {
     "name": "stderr",
     "output_type": "stream",
     "text": [
      "/usr/lib/python3/dist-packages/scipy/__init__.py:146: UserWarning: A NumPy version >=1.17.3 and <1.25.0 is required for this version of SciPy (detected version 1.25.2\n",
      "  warnings.warn(f\"A NumPy version >={np_minversion} and <{np_maxversion}\"\n"
     ]
    }
   ],
   "source": [
    "import pandas as pd\n",
    "import numpy as np\n",
    "import matplotlib.pyplot as plt\n",
    "import seaborn as sns\n",
    "from scipy.stats import pearsonr\n",
    "import warnings\n",
    "warnings.filterwarnings('ignore')\n",
    "\n",
    "# Configuração de estilo para gráficos\n",
    "sns.set_theme(style=\"whitegrid\")\n"
   ]
  },
  {
   "cell_type": "markdown",
   "metadata": {},
   "source": [
    "# Pré-visualização dos Dados"
   ]
  },
  {
   "cell_type": "code",
   "execution_count": 2,
   "metadata": {},
   "outputs": [],
   "source": [
    "# Leitura do arquivo CSV\n",
    "df = pd.read_csv(\"miro_dados_limpos_ultimos_30_dias.csv\")"
   ]
  },
  {
   "cell_type": "code",
   "execution_count": 3,
   "metadata": {},
   "outputs": [
    {
     "name": "stdout",
     "output_type": "stream",
     "text": [
      "\n",
      "Informações sobre o dataset:\n",
      "Número de linhas: 5\n",
      "Número de colunas: 22\n"
     ]
    }
   ],
   "source": [
    "# Exibe informações gerais do dataset\n",
    "print(\"\\nInformações sobre o dataset:\")\n",
    "print(f\"Número de linhas: {df.shape[0]}\")\n",
    "print(f\"Número de colunas: {df.shape[1]}\")"
   ]
  },
  {
   "cell_type": "code",
   "execution_count": 4,
   "metadata": {},
   "outputs": [
    {
     "name": "stdout",
     "output_type": "stream",
     "text": [
      "\n",
      "Primeiras linhas de valores calculados de CPC (todos):\n"
     ]
    },
    {
     "data": {
      "text/html": [
       "<div>\n",
       "<style scoped>\n",
       "    .dataframe tbody tr th:only-of-type {\n",
       "        vertical-align: middle;\n",
       "    }\n",
       "\n",
       "    .dataframe tbody tr th {\n",
       "        vertical-align: top;\n",
       "    }\n",
       "\n",
       "    .dataframe thead th {\n",
       "        text-align: right;\n",
       "    }\n",
       "</style>\n",
       "<table border=\"1\" class=\"dataframe\">\n",
       "  <thead>\n",
       "    <tr style=\"text-align: right;\">\n",
       "      <th></th>\n",
       "      <th>Nome do anúncio</th>\n",
       "      <th>Valor usado (BRL)</th>\n",
       "      <th>Cliques (todos)</th>\n",
       "      <th>CPC (todos)</th>\n",
       "    </tr>\n",
       "  </thead>\n",
       "  <tbody>\n",
       "    <tr>\n",
       "      <th>0</th>\n",
       "      <td>AD 01 - VIDEO - 16/09/2024</td>\n",
       "      <td>301.59</td>\n",
       "      <td>140</td>\n",
       "      <td>2.15</td>\n",
       "    </tr>\n",
       "    <tr>\n",
       "      <th>1</th>\n",
       "      <td>AD 01 - VIDEO - 01/10/2024</td>\n",
       "      <td>266.13</td>\n",
       "      <td>115</td>\n",
       "      <td>2.31</td>\n",
       "    </tr>\n",
       "    <tr>\n",
       "      <th>2</th>\n",
       "      <td>AD 01 - STORY - 16/10/2024</td>\n",
       "      <td>119.48</td>\n",
       "      <td>35</td>\n",
       "      <td>3.41</td>\n",
       "    </tr>\n",
       "    <tr>\n",
       "      <th>3</th>\n",
       "      <td>AD 03 - STORY - 15/10/2024</td>\n",
       "      <td>8.13</td>\n",
       "      <td>3</td>\n",
       "      <td>2.71</td>\n",
       "    </tr>\n",
       "    <tr>\n",
       "      <th>4</th>\n",
       "      <td>AD 02 - VIDEO - 16/09/2024</td>\n",
       "      <td>7.53</td>\n",
       "      <td>3</td>\n",
       "      <td>2.51</td>\n",
       "    </tr>\n",
       "  </tbody>\n",
       "</table>\n",
       "</div>"
      ],
      "text/plain": [
       "              Nome do anúncio  Valor usado (BRL)  Cliques (todos)  CPC (todos)\n",
       "0  AD 01 - VIDEO - 16/09/2024             301.59              140         2.15\n",
       "1  AD 01 - VIDEO - 01/10/2024             266.13              115         2.31\n",
       "2  AD 01 - STORY - 16/10/2024             119.48               35         3.41\n",
       "3  AD 03 - STORY - 15/10/2024               8.13                3         2.71\n",
       "4  AD 02 - VIDEO - 16/09/2024               7.53                3         2.51"
      ]
     },
     "metadata": {},
     "output_type": "display_data"
    }
   ],
   "source": [
    "# Cálculo manual do CPC (todos)\n",
    "df[\"CPC (todos)\"] = df[\"Valor usado (BRL)\"] / df[\"Cliques (todos)\"]\n",
    "\n",
    "# Exibindo os resultados em uma tabela organizada com valores arredondados\n",
    "print(\"\\nPrimeiras linhas de valores calculados de CPC (todos):\")\n",
    "display(\n",
    "    df[[\"Nome do anúncio\", \"Valor usado (BRL)\", \"Cliques (todos)\", \"CPC (todos)\"]].round(2)\n",
    ")\n"
   ]
  },
  {
   "cell_type": "code",
   "execution_count": 5,
   "metadata": {},
   "outputs": [
    {
     "name": "stdout",
     "output_type": "stream",
     "text": [
      "\n",
      " Primeiras linhas de valores calculados de CTR:\n"
     ]
    },
    {
     "data": {
      "text/html": [
       "<div>\n",
       "<style scoped>\n",
       "    .dataframe tbody tr th:only-of-type {\n",
       "        vertical-align: middle;\n",
       "    }\n",
       "\n",
       "    .dataframe tbody tr th {\n",
       "        vertical-align: top;\n",
       "    }\n",
       "\n",
       "    .dataframe thead th {\n",
       "        text-align: right;\n",
       "    }\n",
       "</style>\n",
       "<table border=\"1\" class=\"dataframe\">\n",
       "  <thead>\n",
       "    <tr style=\"text-align: right;\">\n",
       "      <th></th>\n",
       "      <th>Nome do anúncio</th>\n",
       "      <th>Cliques (todos)</th>\n",
       "      <th>Impressões</th>\n",
       "      <th>CTR</th>\n",
       "    </tr>\n",
       "  </thead>\n",
       "  <tbody>\n",
       "    <tr>\n",
       "      <th>0</th>\n",
       "      <td>AD 01 - VIDEO - 16/09/2024</td>\n",
       "      <td>140</td>\n",
       "      <td>159312</td>\n",
       "      <td>0.09</td>\n",
       "    </tr>\n",
       "    <tr>\n",
       "      <th>1</th>\n",
       "      <td>AD 01 - VIDEO - 01/10/2024</td>\n",
       "      <td>115</td>\n",
       "      <td>142351</td>\n",
       "      <td>0.08</td>\n",
       "    </tr>\n",
       "    <tr>\n",
       "      <th>2</th>\n",
       "      <td>AD 01 - STORY - 16/10/2024</td>\n",
       "      <td>35</td>\n",
       "      <td>74129</td>\n",
       "      <td>0.05</td>\n",
       "    </tr>\n",
       "    <tr>\n",
       "      <th>3</th>\n",
       "      <td>AD 03 - STORY - 15/10/2024</td>\n",
       "      <td>3</td>\n",
       "      <td>4699</td>\n",
       "      <td>0.06</td>\n",
       "    </tr>\n",
       "    <tr>\n",
       "      <th>4</th>\n",
       "      <td>AD 02 - VIDEO - 16/09/2024</td>\n",
       "      <td>3</td>\n",
       "      <td>4004</td>\n",
       "      <td>0.07</td>\n",
       "    </tr>\n",
       "  </tbody>\n",
       "</table>\n",
       "</div>"
      ],
      "text/plain": [
       "              Nome do anúncio  Cliques (todos)  Impressões   CTR\n",
       "0  AD 01 - VIDEO - 16/09/2024              140      159312  0.09\n",
       "1  AD 01 - VIDEO - 01/10/2024              115      142351  0.08\n",
       "2  AD 01 - STORY - 16/10/2024               35       74129  0.05\n",
       "3  AD 03 - STORY - 15/10/2024                3        4699  0.06\n",
       "4  AD 02 - VIDEO - 16/09/2024                3        4004  0.07"
      ]
     },
     "metadata": {},
     "output_type": "display_data"
    }
   ],
   "source": [
    "# Cálculo manual da CTR (Click-Through Rate)\n",
    "df[\"CTR\"] = (df[\"Cliques (todos)\"] / df[\"Impressões\"]) * 100\n",
    "\n",
    "# Exibindo os resultados em uma tabela organizada com valores arredondados\n",
    "print(\"\\n Primeiras linhas de valores calculados de CTR:\")\n",
    "display(\n",
    "    df[[\"Nome do anúncio\", \"Cliques (todos)\", \"Impressões\", \"CTR\"]]\n",
    "    .round(2)\n",
    ")"
   ]
  },
  {
   "cell_type": "markdown",
   "metadata": {},
   "source": [
    "# Estatísticas Descritivas do `.describe()`\n",
    "\n",
    "1.  **count**:\n",
    "\n",
    "    - **Definição**: Conta o número de entradas válidas (não nulas) em cada coluna.\n",
    "    - **Cálculo**: Número total de valores presentes em uma coluna, ignorando valores ausentes (`NaN`).\n",
    "    - **Uso**: Útil para verificar a quantidade de dados disponíveis e se há muitas lacunas em uma coluna.\n",
    "\n",
    "2.  **mean** (Média):\n",
    "\n",
    "    - **Definição**: A média aritmética dos valores na coluna.\n",
    "    - **Cálculo**: Soma de todos os valores dividida pelo número total de valores não nulos.\n",
    "    - **Uso**: Indica o valor médio de uma coluna, ajudando a identificar o centro da distribuição dos dados.\n",
    "\n",
    "3.  **std** (Desvio Padrão):\n",
    "\n",
    "    - **Definição**: Mede a dispersão dos valores em relação à média.\n",
    "    - **Cálculo**: Raiz quadrada da média dos quadrados das diferenças entre cada valor e a média.\n",
    "    - **Uso**: Indica a variabilidade dos dados; quanto maior o desvio padrão, mais dispersos estão os dados em torno da média.\n",
    "\n",
    "4.  **min** (Valor Mínimo):\n",
    "\n",
    "    - **Definição**: O menor valor encontrado na coluna.\n",
    "    - **Cálculo**: Simplesmente o valor mais baixo da série.\n",
    "    - **Uso**: Mostra o limite inferior dos valores e ajuda a identificar possíveis outliers (valores muito baixos).\n",
    "\n",
    "5.  **25%** (1º Quartil):\n",
    "\n",
    "    - **Definição**: O valor abaixo do qual 25% dos dados estão situados.\n",
    "    - **Cálculo**: Valor que divide os 25% menores valores dos restantes.\n",
    "    - **Uso**: Indica o limite inferior do intervalo interquartil e ajuda a entender a dispersão dos dados na parte baixa.\n",
    "\n",
    "6.  **50%** (Mediana ou 2º Quartil):\n",
    "\n",
    "    - **Definição**: O valor central da distribuição.\n",
    "    - **Cálculo**: O valor no meio dos dados quando organizados em ordem crescente.\n",
    "    - **Uso**: É uma medida de tendência central mais robusta que a média, pois não é afetada por outliers.\n",
    "\n",
    "7.  **75%** (3º Quartil):\n",
    "\n",
    "    - **Definição**: O valor abaixo do qual 75% dos dados estão situados.\n",
    "    - **Cálculo**: Valor que divide os 75% menores valores dos restantes.\n",
    "    - **Uso**: Indica o limite superior do intervalo interquartil, ajudando a identificar a dispersão dos dados na parte alta.\n",
    "\n",
    "8.  **max** (Valor Máximo):\n",
    "    - **Definição**: O maior valor encontrado na coluna.\n",
    "    - **Cálculo**: Simplesmente o valor mais alto da série.\n",
    "    - **Uso**: Mostra o limite superior dos valores e ajuda a identificar possíveis outliers (valores muito altos).\n",
    "\n",
    "Essas estatísticas fornecem uma visão abrangente da distribuição dos dados, destacando o centro (média e mediana), a dispersão (desvio padrão e quartis) e os limites (mínimo e máximo). Em uma análise, essas métricas ajudam a identificar a forma geral da distribuição dos dados, outliers e o intervalo típico dos valores.\n"
   ]
  },
  {
   "cell_type": "code",
   "execution_count": 6,
   "metadata": {},
   "outputs": [
    {
     "name": "stdout",
     "output_type": "stream",
     "text": [
      "Estatísticas descritivas das métricas de desempenho:\n"
     ]
    },
    {
     "data": {
      "text/html": [
       "<div>\n",
       "<style scoped>\n",
       "    .dataframe tbody tr th:only-of-type {\n",
       "        vertical-align: middle;\n",
       "    }\n",
       "\n",
       "    .dataframe tbody tr th {\n",
       "        vertical-align: top;\n",
       "    }\n",
       "\n",
       "    .dataframe thead th {\n",
       "        text-align: right;\n",
       "    }\n",
       "</style>\n",
       "<table border=\"1\" class=\"dataframe\">\n",
       "  <thead>\n",
       "    <tr style=\"text-align: right;\">\n",
       "      <th></th>\n",
       "      <th>Alcance</th>\n",
       "      <th>Impressões</th>\n",
       "      <th>Frequência</th>\n",
       "      <th>Valor usado (BRL)</th>\n",
       "      <th>Resultados</th>\n",
       "      <th>Custo por resultado</th>\n",
       "      <th>CPM (custo por 1.000 impressões)</th>\n",
       "      <th>CTR</th>\n",
       "      <th>CPC (todos)</th>\n",
       "      <th>Cliques (todos)</th>\n",
       "    </tr>\n",
       "  </thead>\n",
       "  <tbody>\n",
       "    <tr>\n",
       "      <th>count</th>\n",
       "      <td>5.00</td>\n",
       "      <td>5.0</td>\n",
       "      <td>5.00</td>\n",
       "      <td>5.00</td>\n",
       "      <td>5.00</td>\n",
       "      <td>5.00</td>\n",
       "      <td>5.00</td>\n",
       "      <td>5.00</td>\n",
       "      <td>5.00</td>\n",
       "      <td>5.00</td>\n",
       "    </tr>\n",
       "    <tr>\n",
       "      <th>mean</th>\n",
       "      <td>48248.00</td>\n",
       "      <td>76899.0</td>\n",
       "      <td>1.36</td>\n",
       "      <td>140.57</td>\n",
       "      <td>48248.00</td>\n",
       "      <td>2.47</td>\n",
       "      <td>1.80</td>\n",
       "      <td>0.07</td>\n",
       "      <td>2.62</td>\n",
       "      <td>59.20</td>\n",
       "    </tr>\n",
       "    <tr>\n",
       "      <th>std</th>\n",
       "      <td>41970.28</td>\n",
       "      <td>73501.8</td>\n",
       "      <td>0.36</td>\n",
       "      <td>139.08</td>\n",
       "      <td>41970.28</td>\n",
       "      <td>0.75</td>\n",
       "      <td>0.12</td>\n",
       "      <td>0.02</td>\n",
       "      <td>0.49</td>\n",
       "      <td>64.31</td>\n",
       "    </tr>\n",
       "    <tr>\n",
       "      <th>min</th>\n",
       "      <td>3833.00</td>\n",
       "      <td>4004.0</td>\n",
       "      <td>1.04</td>\n",
       "      <td>7.53</td>\n",
       "      <td>3833.00</td>\n",
       "      <td>1.80</td>\n",
       "      <td>1.61</td>\n",
       "      <td>0.05</td>\n",
       "      <td>2.15</td>\n",
       "      <td>3.00</td>\n",
       "    </tr>\n",
       "    <tr>\n",
       "      <th>25%</th>\n",
       "      <td>4526.00</td>\n",
       "      <td>4699.0</td>\n",
       "      <td>1.04</td>\n",
       "      <td>8.13</td>\n",
       "      <td>4526.00</td>\n",
       "      <td>1.96</td>\n",
       "      <td>1.73</td>\n",
       "      <td>0.06</td>\n",
       "      <td>2.31</td>\n",
       "      <td>3.00</td>\n",
       "    </tr>\n",
       "    <tr>\n",
       "      <th>50%</th>\n",
       "      <td>59677.00</td>\n",
       "      <td>74129.0</td>\n",
       "      <td>1.24</td>\n",
       "      <td>119.48</td>\n",
       "      <td>59677.00</td>\n",
       "      <td>2.00</td>\n",
       "      <td>1.87</td>\n",
       "      <td>0.07</td>\n",
       "      <td>2.51</td>\n",
       "      <td>35.00</td>\n",
       "    </tr>\n",
       "    <tr>\n",
       "      <th>75%</th>\n",
       "      <td>79930.00</td>\n",
       "      <td>142351.0</td>\n",
       "      <td>1.71</td>\n",
       "      <td>266.13</td>\n",
       "      <td>79930.00</td>\n",
       "      <td>3.23</td>\n",
       "      <td>1.88</td>\n",
       "      <td>0.08</td>\n",
       "      <td>2.71</td>\n",
       "      <td>115.00</td>\n",
       "    </tr>\n",
       "    <tr>\n",
       "      <th>max</th>\n",
       "      <td>93274.00</td>\n",
       "      <td>159312.0</td>\n",
       "      <td>1.78</td>\n",
       "      <td>301.59</td>\n",
       "      <td>93274.00</td>\n",
       "      <td>3.33</td>\n",
       "      <td>1.89</td>\n",
       "      <td>0.09</td>\n",
       "      <td>3.41</td>\n",
       "      <td>140.00</td>\n",
       "    </tr>\n",
       "  </tbody>\n",
       "</table>\n",
       "</div>"
      ],
      "text/plain": [
       "        Alcance  Impressões  Frequência  Valor usado (BRL)  Resultados  \\\n",
       "count      5.00         5.0        5.00               5.00        5.00   \n",
       "mean   48248.00     76899.0        1.36             140.57    48248.00   \n",
       "std    41970.28     73501.8        0.36             139.08    41970.28   \n",
       "min     3833.00      4004.0        1.04               7.53     3833.00   \n",
       "25%     4526.00      4699.0        1.04               8.13     4526.00   \n",
       "50%    59677.00     74129.0        1.24             119.48    59677.00   \n",
       "75%    79930.00    142351.0        1.71             266.13    79930.00   \n",
       "max    93274.00    159312.0        1.78             301.59    93274.00   \n",
       "\n",
       "       Custo por resultado  CPM (custo por 1.000 impressões)   CTR  \\\n",
       "count                 5.00                              5.00  5.00   \n",
       "mean                  2.47                              1.80  0.07   \n",
       "std                   0.75                              0.12  0.02   \n",
       "min                   1.80                              1.61  0.05   \n",
       "25%                   1.96                              1.73  0.06   \n",
       "50%                   2.00                              1.87  0.07   \n",
       "75%                   3.23                              1.88  0.08   \n",
       "max                   3.33                              1.89  0.09   \n",
       "\n",
       "       CPC (todos)  Cliques (todos)  \n",
       "count         5.00             5.00  \n",
       "mean          2.62            59.20  \n",
       "std           0.49            64.31  \n",
       "min           2.15             3.00  \n",
       "25%           2.31             3.00  \n",
       "50%           2.51            35.00  \n",
       "75%           2.71           115.00  \n",
       "max           3.41           140.00  "
      ]
     },
     "metadata": {},
     "output_type": "display_data"
    }
   ],
   "source": [
    "# Exibição de estatísticas descritivas das métricas de desempenho para contexto\n",
    "metricas_desempenho = [\n",
    "    \"Alcance\",\n",
    "    \"Impressões\",\n",
    "    \"Frequência\",\n",
    "    \"Valor usado (BRL)\",\n",
    "    \"Resultados\",\n",
    "    \"Custo por resultado\",\n",
    "    \"CPM (custo por 1.000 impressões)\",\n",
    "    \"CTR\",\n",
    "    \"CPC (todos)\",\n",
    "    \"Cliques (todos)\",\n",
    "]\n",
    "\n",
    "print(\"Estatísticas descritivas das métricas de desempenho:\")\n",
    "display(df[metricas_desempenho].describe().round(2))"
   ]
  },
  {
   "cell_type": "markdown",
   "metadata": {},
   "source": [
    "# Cálculo de Outliers\n",
    "\n",
    "**1. O que são outliers?**\n",
    "\n",
    "Outliers são valores em uma série de dados que se destacam significativamente da média ou do padrão observado, sendo muito mais altos ou baixos que a maioria dos demais. Eles podem ser causados por diversas variáveis, como erros de entrada, características particulares do dado, ou fatores excepcionais em campanhas de marketing. Em suma, outliers são valores que desequilibram o dataframe e comprometem a capacidade de extrair insights com base nos dados\n",
    "\n",
    "\n",
    "**2. Como outliers ajudam em diagnósticos para marketing digital e tráfego pago?**\n",
    "\n",
    "No contexto de marketing digital e campanhas de tráfego pago, outliers ajudam a identificar campanhas ou anúncios que estão performando de maneira atípica, tanto positiva quanto negativamente. Isso permite avaliar estratégias específicas e fazer ajustes necessários. Por exemplo, anúncios com impressões ou alcance excessivamente altos podem estar drenando o orçamento, enquanto um CPC (todos)(Custo por Clique) acima da média pode indicar que a segmentação precisa de revisão.\n",
    "\n",
    "\n",
    "**3. Análise dos resultados de forma simples**\n",
    "\n",
    "**Alcance**: Três anúncios apresentaram valores fora do padrão, com valores entre R$ 95.498 e R$ 167.158, muito acima do limite superior de R$ 83.631,12.\n",
    "\n",
    "**Impressões**: Cinco anúncios apresentaram entre R$ 159.631 e R$ 409.103, acima do limite de R$ 117.899,62.\n",
    "\n",
    "**Frequência**: Dois anúncios tiveram uma frequência superior a 3,60, com valores entre 3,74 e 4,07.\n",
    "\n",
    "**Valor usado (BRL)**: Em três anúncios, o valor investido superou R$ 420,90, com um mínimo de R$ 562,85 e máximo de R$ 641,46.\n",
    "\n",
    "**Resultados**: Três anúncios ficaram acima do limite de 95.497,50, com valores de 95.498 a 167.158.\n",
    "\n",
    "**Custo por resultado**: Quatro anúncios apresentaram valores entre R$ 8,96 e R$ 13,09, ultrapassando o limite de R$ 8,79.\n",
    "\n",
    "**CPC (todos)(Custo por clique no link)**: Cinco anúncios, com CPC (todos)entre R$ 14,48 e R$ 170,41, estão acima do limite de R$ 13,74.\n",
    "\n",
    "**Cliques (todos)**: Três anúncios ultrapassaram o limite de 265,75 cliques, com valores entre 283 e 625.\n",
    "\n",
    "**4. Insights e formas de evitar outliers**\n",
    "\n",
    "**Insights:**\n",
    "\n",
    "Alta frequência e CPC (todos)elevados indicam que algumas campanhas podem estar saturando o público-alvo, possivelmente gerando custo extra sem retorno proporcional.\n",
    "Impressões e alcance anormais podem refletir uma exposição excessiva para o público errado ou ajustes necessários na segmentação.\n",
    "Custos por resultado elevados sugerem a necessidade de ajustes no conteúdo, nas chamadas para ação, ou na segmentação para otimizar o investimento.\n",
    "\n",
    "**Como evitar outliers:**\n",
    "\n",
    "**Refinar segmentação:** Análises frequentes dos públicos-alvo ajudam a evitar a exibição excessiva de anúncios para as mesmas pessoas, o que pode aumentar os custos.\n",
    "\n",
    "**Ajustar o orçamento e a frequência**: Para evitar custos elevados, ajuste o orçamento dos anúncios e limite a frequência para evitar saturação.\n",
    "\n",
    "**Testes A/B**: Testar diferentes criativos e mensagens pode identificar rapidamente quais conteúdos geram maior interação a um menor custo.\n",
    "\n",
    "**Monitoramento contínuo**: Acompanhar os indicadores principais (CPC (todos) (todos)   , alcance, impressões, etc.) permite ajustes rápidos, evitando que outliers persistam e prejudiquem a eficiência do orçamento.\n",
    "\n",
    "Esses métodos permitem que as campanhas permaneçam otimizadas, minimizando gastos excessivos e maximizando os resultado"
   ]
  },
  {
   "cell_type": "code",
   "execution_count": 7,
   "metadata": {},
   "outputs": [
    {
     "name": "stdout",
     "output_type": "stream",
     "text": [
      "Resumo dos outliers nas métricas de desempenho:\n",
      "\n",
      "Métrica: CPC (todos)\n",
      "Outliers encontrados: 1\n",
      "Valor mínimo de outlier: 3.4137142857142857\n",
      "Valor máximo de outlier: 3.4137142857142857\n",
      "Limite superior: 3.30\n",
      "Anúncios com outliers:\n",
      " - AD 01 - STORY - 16/10/2024\n",
      "\n",
      "--------------------------------------------------\n",
      "\n",
      "Análise concluída.\n"
     ]
    }
   ],
   "source": [
    "# Função para identificar outliers usando o método IQR sem modificar o DataFrame original\n",
    "def identificar_outliers(df, colunas):\n",
    "    # Cria uma cópia do DataFrame para a análise\n",
    "    global df_outlier  # Define df_outlier como variável global para acesso posterior\n",
    "    df_outlier = df.copy()\n",
    "    print(\"Resumo dos outliers nas métricas de desempenho:\\n\")\n",
    "\n",
    "    for coluna in colunas:\n",
    "        if coluna in df_outlier.columns:\n",
    "            # Tenta converter a coluna para valores numéricos, ignorando erros\n",
    "            df_outlier[coluna] = pd.to_numeric(df_outlier[coluna], errors=\"coerce\")\n",
    "\n",
    "            # Cálculo do IQR e limite superior para outliers\n",
    "            Q1 = df_outlier[coluna].quantile(0.25)\n",
    "            Q3 = df_outlier[coluna].quantile(0.75)\n",
    "            IQR = Q3 - Q1\n",
    "            limite_superior = Q3 + 1.5 * IQR\n",
    "\n",
    "            # Seleção dos outliers\n",
    "            outliers_coluna = df_outlier[df_outlier[coluna] > limite_superior]\n",
    "            num_outliers = len(outliers_coluna)\n",
    "\n",
    "            # Exibição dos resultados de outliers para a métrica atual\n",
    "            if num_outliers > 0:\n",
    "                print(f\"Métrica: {coluna}\")\n",
    "                print(f\"Outliers encontrados: {num_outliers}\")\n",
    "                print(f\"Valor mínimo de outlier: {outliers_coluna[coluna].min()}\")\n",
    "                print(f\"Valor máximo de outlier: {outliers_coluna[coluna].max()}\")\n",
    "                print(f\"Limite superior: {limite_superior:.2f}\")\n",
    "                print(\"Anúncios com outliers:\")\n",
    "\n",
    "                # Exibe cada anúncio individualmente\n",
    "                for index, row in outliers_coluna.iterrows():\n",
    "                    print(f\" - {row['Nome do anúncio']}\")\n",
    "\n",
    "                print(\"\\n\" + \"-\" * 50 + \"\\n\")\n",
    "        else:\n",
    "            print(f\"Coluna '{coluna}' ignorada (não encontrada).\\n\")\n",
    "\n",
    "    print(\"Análise concluída.\")\n",
    "\n",
    "# Exemplo de chamada da função\n",
    "identificar_outliers(df, metricas_desempenho)"
   ]
  },
  {
   "cell_type": "markdown",
   "metadata": {},
   "source": [
    "Quando analisamos os resultados de campanhas de anúncios, podemos encontrar alguns que tiveram um desempenho muito acima da média. Esses anúncios \"fora da curva\", chamados de **outliers**, são aqueles que se destacam em várias métricas importantes, como **alcance**, **engajamento**, **cliques** e **custo por clique**. Em vez de ignorá-los ou descartá-los, identificar e entender esses anúncios pode ser uma excelente estratégia para melhorar futuras campanhas.\n",
    "\n",
    "### Por que analisar anúncios com desempenho excepcional?\n",
    "\n",
    "1. **Identificar o que funciona**: Anúncios que alcançam muita gente, recebem muitos cliques ou engajam mais do que o esperado podem ter um criativo (imagem, vídeo ou texto) especialmente atrativo. Ao entender o que esses anúncios têm de diferente, conseguimos insights sobre o que chama mais atenção do público.\n",
    "\n",
    "2. **Ajustar o público-alvo**: Se um anúncio foi entregue para o público certo, no momento certo, ele provavelmente se destacará em métricas como alcance e engajamento. Analisar esses outliers pode nos ajudar a encontrar os públicos que mais respondem aos nossos conteúdos, permitindo uma segmentação mais eficaz para futuras campanhas.\n",
    "\n",
    "3. **Otimizar custos**: Anúncios que trazem bons resultados com custos baixos (por exemplo, um baixo custo por clique) mostram que estamos conseguindo um ótimo retorno sobre o investimento. Em vez de descartar esses dados, analisar por que esses anúncios foram tão eficientes pode nos ajudar a otimizar os gastos em campanhas futuras.\n",
    "\n",
    "4. **Aprender com o sucesso**: Esses anúncios excepcionais são ótimos exemplos de sucesso. Em vez de olhar apenas para a média dos anúncios, focar nesses \"cases de sucesso\" nos dá ideias práticas para replicar e melhorar campanhas, entendendo melhor quais horários, plataformas ou tipos de conteúdo funcionam melhor.\n",
    "\n",
    "### Conclusão\n",
    "\n",
    "Analisar os anúncios que se destacaram em várias métricas não é apenas sobre números altos, mas sobre descobrir **o que funcionou**. Esses insights nos ajudam a criar campanhas mais eficazes, investindo nos elementos que realmente fazem a diferença para o público. Em resumo, os outliers mostram o caminho para estratégias de alto impacto e melhor desempenho."
   ]
  },
  {
   "cell_type": "code",
   "execution_count": 8,
   "metadata": {},
   "outputs": [
    {
     "data": {
      "text/html": [
       "<div>\n",
       "<style scoped>\n",
       "    .dataframe tbody tr th:only-of-type {\n",
       "        vertical-align: middle;\n",
       "    }\n",
       "\n",
       "    .dataframe tbody tr th {\n",
       "        vertical-align: top;\n",
       "    }\n",
       "\n",
       "    .dataframe thead th {\n",
       "        text-align: right;\n",
       "    }\n",
       "</style>\n",
       "<table border=\"1\" class=\"dataframe\">\n",
       "  <thead>\n",
       "    <tr style=\"text-align: right;\">\n",
       "      <th></th>\n",
       "      <th>Nome do anúncio</th>\n",
       "      <th>Alcance</th>\n",
       "      <th>Impressões</th>\n",
       "      <th>Cliques (todos)</th>\n",
       "      <th>Resultados</th>\n",
       "      <th>Valor usado (BRL)</th>\n",
       "    </tr>\n",
       "  </thead>\n",
       "  <tbody>\n",
       "    <tr>\n",
       "      <th>2</th>\n",
       "      <td>AD 01 - STORY - 16/10/2024</td>\n",
       "      <td>59677</td>\n",
       "      <td>74129</td>\n",
       "      <td>35</td>\n",
       "      <td>59677</td>\n",
       "      <td>119.48</td>\n",
       "    </tr>\n",
       "  </tbody>\n",
       "</table>\n",
       "</div>"
      ],
      "text/plain": [
       "              Nome do anúncio  Alcance  Impressões  Cliques (todos)  \\\n",
       "2  AD 01 - STORY - 16/10/2024    59677       74129               35   \n",
       "\n",
       "   Resultados  Valor usado (BRL)  \n",
       "2       59677             119.48  "
      ]
     },
     "metadata": {},
     "output_type": "display_data"
    }
   ],
   "source": [
    "# Função para compilar e exibir anúncios com desempenho excepcional (outliers) em várias métricas\n",
    "def compilar_outliers_desempenho_excepcional(df_outlier, colunas):\n",
    "    # Lista para armazenar índices de linhas que foram outliers em pelo menos uma métrica\n",
    "    indices_outliers = set()\n",
    "\n",
    "    # Analisar cada métrica e coletar índices de outliers\n",
    "    for coluna in colunas:\n",
    "        if coluna in df_outlier.columns:\n",
    "            # Cálculo do IQR e limite superior para identificar outliers\n",
    "            Q1 = df_outlier[coluna].quantile(0.25)\n",
    "            Q3 = df_outlier[coluna].quantile(0.75)\n",
    "            IQR = Q3 - Q1\n",
    "            limite_superior = Q3 + 1.5 * IQR\n",
    "\n",
    "            # Coleta de índices de outliers\n",
    "            outliers_coluna = df_outlier[df_outlier[coluna] > limite_superior]\n",
    "            indices_outliers.update(outliers_coluna.index)\n",
    "\n",
    "    # Converte o conjunto de índices para uma lista\n",
    "    indices_outliers = list(indices_outliers)\n",
    "\n",
    "    # Criação de um DataFrame apenas com os anúncios que foram outliers em pelo menos uma métrica\n",
    "    df_outliers_compilado = df_outlier.loc[indices_outliers]\n",
    "\n",
    "    # Seleciona apenas as colunas de interesse para análise de desempenho\n",
    "    colunas_interesse = [\"Nome do anúncio\", \"Alcance\", \"Impressões\", \"Cliques (todos)\", \"Resultados\", \"Valor usado (BRL)\"]\n",
    "    display(df_outliers_compilado[colunas_interesse])\n",
    "\n",
    "# Exemplo de chamada da função para compilar e exibir os anúncios de alta performance\n",
    "compilar_outliers_desempenho_excepcional(df_outlier, metricas_desempenho)\n"
   ]
  },
  {
   "cell_type": "markdown",
   "metadata": {},
   "source": [
    "# Visualização de Distribuições Alcance e Custo por Resultado"
   ]
  },
  {
   "cell_type": "markdown",
   "metadata": {},
   "source": [
    "## Histograma \n",
    "\n",
    "Este gráfico mostra a distribuição de alcance de anúncios, ou seja, quantas pessoas cada anúncio conseguiu alcançar. A maioria dos anúncios (cerca de 20) teve um alcance baixo, abaixo de 25.000 pessoas. À medida que o alcance aumenta, o número de anúncios diminui drasticamente, com pouquíssimos anúncios alcançando mais de 50.000 pessoas.\n",
    "\n",
    "**Insight**: A maioria dos anúncios não está atingindo um público amplo. Isso sugere que, para aumentar o alcance, seria importante revisar a estratégia de segmentação ou aumentar o investimento em anúncios que possam alcançar mais pessoas."
   ]
  },
  {
   "cell_type": "code",
   "execution_count": 9,
   "metadata": {},
   "outputs": [
    {
     "data": {
      "image/png": "[encoded data removed]",
      "text/plain": [
       "<Figure size 1000x500 with 1 Axes>"
      ]
     },
     "metadata": {},
     "output_type": "display_data"
    }
   ],
   "source": [
    "plt.figure(figsize=(10, 5))\n",
    "sns.histplot(df[\"Alcance\"], kde=True)\n",
    "plt.title(\"Distribuição de Alcance\")\n",
    "plt.xlabel(\"Alcance\")\n",
    "plt.ylabel(\"Número de Anúncios\")\n",
    "plt.show()"
   ]
  },
  {
   "cell_type": "markdown",
   "metadata": {},
   "source": [
    "## Boxplot\n",
    "\n",
    "Este gráfico mostra um \"boxplot\" do custo por resultado dos anúncios, ou seja, quanto foi gasto, em média, para cada ação desejada (como cliques ou conversões). A caixa representa o intervalo em que a maioria dos custos se concentra, entre aproximadamente 1 e 6. Há alguns pontos fora da caixa (chamados \"outliers\"), indicando anúncios com custo por resultado significativamente mais alto, entre 10 e 12.\n",
    "\n",
    "**Insight**: A maioria dos anúncios teve um custo por resultado relativamente baixo, mas alguns estão custando muito mais para gerar resultados. Isso pode indicar que esses anúncios de alto custo precisam de ajustes para serem mais eficientes e alinhados ao custo médio da campanha."
   ]
  },
  {
   "cell_type": "code",
   "execution_count": 10,
   "metadata": {},
   "outputs": [
    {
     "data": {
      "image/png": "[encoded data removed]",
      "text/plain": [
       "<Figure size 1000x500 with 1 Axes>"
      ]
     },
     "metadata": {},
     "output_type": "display_data"
    }
   ],
   "source": [
    "# Filtrar dados para remover custo por resultado igual a 0 ou NaN\n",
    "df_filtrado = df[(df[\"Custo por resultado\"] > 0) & (df[\"Custo por resultado\"].notna())]\n",
    "\n",
    "# Criar o boxplot\n",
    "plt.figure(figsize=(10, 5))\n",
    "sns.boxplot(x=\"Custo por resultado\", data=df_filtrado)\n",
    "plt.title(\"Boxplot do Custo por Resultado\")\n",
    "plt.xlabel(\"Custo por Resultado\")\n",
    "plt.show()\n"
   ]
  },
  {
   "cell_type": "markdown",
   "metadata": {},
   "source": [
    "# Visualização das Distribuições do Custo por Resultado e Número de Anúncios\""
   ]
  },
  {
   "cell_type": "markdown",
   "metadata": {},
   "source": [
    "## Histograma\n",
    "\n",
    "Este gráfico mostra a distribuição do custo por resultado dos anúncios, ou seja, quantos anúncios estão em diferentes faixas de custo por ação gerada. A maioria dos anúncios tem um custo por resultado entre 2 e 6 unidades, com picos próximos de 4 unidades. Apenas alguns anúncios apresentam custos mais elevados, acima de 10.\n",
    "\n",
    "**Insight**: A maioria dos anúncios está com um custo por resultado em uma faixa relativamente controlada, mas há alguns com custos elevados. Esses anúncios mais caros devem ser revisados para identificar oportunidades de redução de custo e melhorar o retorno sobre o investimento."
   ]
  },
  {
   "cell_type": "code",
   "execution_count": 11,
   "metadata": {},
   "outputs": [
    {
     "data": {
      "image/png": "[encoded data removed]",
      "text/plain": [
       "<Figure size 1000x500 with 1 Axes>"
      ]
     },
     "metadata": {},
     "output_type": "display_data"
    }
   ],
   "source": [
    "plt.figure(figsize=(10, 5))\n",
    "sns.histplot(df[\"Custo por resultado\"], kde=True)\n",
    "plt.title(\"Distribuição do Custo por Resultado\")\n",
    "plt.xlabel(\"Custo por Resultado\")\n",
    "plt.ylabel(\"Número de Anúncios\")\n",
    "plt.show()"
   ]
  },
  {
   "cell_type": "markdown",
   "metadata": {},
   "source": [
    "# Análise de Relação entre CTR e Resultados"
   ]
  },
  {
   "cell_type": "markdown",
   "metadata": {},
   "source": [
    "#### Gráfico de dispersão (scatter plot) \n",
    "\n",
    "Este gráfico mostra a relação entre o CTR (Click-Through Rate) calculado e os resultados (ações geradas) dos anúncios. Observamos que, na maioria dos casos, o CTR calculado é baixo (entre 0 e 0,2), mas ainda assim, alguns desses anúncios geram um alto número de resultados, chegando a mais de 100.000. Poucos anúncios têm CTR mais alto, mas, mesmo assim, os resultados gerados são baixos.\n",
    "\n",
    "**Insight**: Esse gráfico sugere que um CTR mais alto não está necessariamente correlacionado com um número maior de resultados. Fatores além do CTR, como segmentação e qualidade do público-alvo, podem estar influenciando os resultados. É importante analisar outros elementos das campanhas para otimizar o desempenho."
   ]
  },
  {
   "cell_type": "code",
   "execution_count": 12,
   "metadata": {},
   "outputs": [
    {
     "data": {
      "image/png": "[encoded data removed]",
      "text/plain": [
       "<Figure size 1000x500 with 1 Axes>"
      ]
     },
     "metadata": {},
     "output_type": "display_data"
    }
   ],
   "source": [
    "# Scatter plot de CTR calculado vs Resultados para avaliar relação\n",
    "plt.figure(figsize=(10, 5))\n",
    "sns.scatterplot(x=\"CTR\", y=\"Resultados\", data=df)\n",
    "plt.title(\"CTR Calculado vs Resultados\")\n",
    "plt.xlabel(\"CTR Calculado\")\n",
    "plt.ylabel(\"Resultados\")\n",
    "plt.show()"
   ]
  },
  {
   "cell_type": "markdown",
   "metadata": {},
   "source": [
    "#### Mapa de Calor (heatmap)\n",
    "\n",
    "Este gráfico de densidade mostra a relação entre o CTR (Click-Through Rate) calculado e os resultados (ações geradas) dos anúncios. As áreas mais escuras indicam onde a maioria dos dados está concentrada. Observa-se que a maioria dos anúncios está agrupada em uma faixa de CTR próximo a 0 e resultados em torno de 50.000. \n",
    "\n",
    "**Insight**: A concentração de anúncios em CTR baixo com resultados significativos sugere que, para esse conjunto de dados, o CTR não é o único fator que influencia os resultados. É importante investigar outros aspectos da campanha que possam estar impactando o desempenho, como segmentação e qualidade criativa."
   ]
  },
  {
   "cell_type": "code",
   "execution_count": 13,
   "metadata": {},
   "outputs": [
    {
     "data": {
      "image/png": "[encoded data removed]",
      "text/plain": [
       "<Figure size 1000x500 with 1 Axes>"
      ]
     },
     "metadata": {},
     "output_type": "display_data"
    }
   ],
   "source": [
    "# Mapa de calor de densidade para CTR Calculado vs Resultados\n",
    "plt.figure(figsize=(10, 5))\n",
    "sns.kdeplot(x=\"CTR\", y=\"Resultados\", data=df, cmap=\"Blues\", fill=True)\n",
    "plt.title(\"Densidade de CTR Calculado vs Resultados\")\n",
    "plt.xlabel(\"CTR Calculado\")\n",
    "plt.ylabel(\"Resultados\")\n",
    "plt.show()"
   ]
  },
  {
   "cell_type": "markdown",
   "metadata": {},
   "source": [
    "Os dois gráficos juntos reforçam a interpretação de que um CTR alto não é, por si só, um indicador forte de resultados elevados neste conjunto de dados. Outras variáveis, como segmentação, orçamento ou o tipo de campanha, podem estar influenciando mais diretamente os resultados.\n",
    "\n",
    "Esses insights sugerem que vale a pena explorar outros fatores além do CTR para otimizar os resultados dos anúncios."
   ]
  },
  {
   "cell_type": "markdown",
   "metadata": {},
   "source": [
    "# Análise de Correlação entre Métricas"
   ]
  },
  {
   "cell_type": "markdown",
   "metadata": {},
   "source": [
    "## Matriz de Correlação\n",
    "\n",
    "**Intenção do Gráfico**: Esta matriz de correlação mostra como diferentes métricas de desempenho de anúncios se relacionam entre si, indicando quais variáveis aumentam ou diminuem juntas.\n",
    "\n",
    "**Interpretações Pontuais**:\n",
    "- **Alcance e Impressões**: Alta correlação (0,97) – quanto mais impressões, maior o alcance, como esperado.\n",
    "- **Investimento (Valor usado) e Resultados**: Forte relação positiva (0,80) – mais investimento geralmente gera mais resultados.\n",
    "- **CPM e Alcance**: Correlação negativa (-0,62) – um CPM mais alto tende a reduzir o alcance, provavelmente devido ao custo elevado por mil impressões.\n",
    "- **Custo por Conversa e CPM (-0,79)**: Há uma forte correlação negativa entre custo por conversa e CPM, sugerindo que um CPM mais baixo ajuda a reduzir o custo por conversa.\n",
    "- **CPC (todos)e Conversas por Mensagem Iniciada (0,77)**: Campanhas com CPC (todos)alto tendem a ter um custo maior para iniciar conversas, indicando que reduzir o CPC (todos)pode ajudar a baratear esse tipo de interação.\n",
    "- **Frequência e Engajamento com a Página (0,53)**: A frequência tem uma relação moderada com o engajamento, indicando que mostrar o anúncio várias vezes pode aumentar o engajamento com a página, mas é importante não exagerar para evitar cansaço do público.\n",
    "\n",
    "**Insights Valiosos**:\n",
    "- **Foco no Investimento Eficiente**: Um maior investimento geralmente traz mais resultados, mas para otimizar, é essencial monitorar outras variáveis, como CTR e CPC (todos) (todos)   .\n",
    "- **Atenção ao CPM**: Um CPM elevado pode limitar o alcance. Ajustar o público-alvo pode ajudar a equilibrar o custo e ampliar o alcance.\n",
    "- **CTR e Conversão**: CTR sozinho não garante bons resultados. A qualidade do público e a página de destino precisam ser trabalhadas para transformar cliques em ações concretas.\n",
    "- **Reduzir o CPC (todos)e CPM**: Para melhorar o custo de conversas e engajamentos, é importante otimizar o CPC (todos)e CPM, garantindo que mais cliques e interações sejam gerados com menor custo.\n",
    "- **Monitorar Frequência**: Aumentar a frequência pode ser bom para engajamento, mas o equilíbrio é essencial para não cansar o público e manter um custo eficiente por interação.\n",
    "\n",
    "Esses pontos destacam oportunidades para ajustar a estratégia de anúncios, focando em otimizar o alcance e reduzir os custos de conversão, ao mesmo tempo em que se equilibra a frequência para maximizar o engajamento sem saturar o público."
   ]
  },
  {
   "cell_type": "code",
   "execution_count": 16,
   "metadata": {},
   "outputs": [
    {
     "ename": "KeyError",
     "evalue": "'Conversas por mensagem iniciadas'",
     "output_type": "error",
     "traceback": [
      "\u001b[0;31m---------------------------------------------------------------------------\u001b[0m",
      "\u001b[0;31mKeyError\u001b[0m                                  Traceback (most recent call last)",
      "File \u001b[0;32m~/.local/lib/python3.10/site-packages/pandas/core/indexes/base.py:3802\u001b[0m, in \u001b[0;36mIndex.get_loc\u001b[0;34m(self, key)\u001b[0m\n\u001b[1;32m   3801\u001b[0m \u001b[38;5;28;01mtry\u001b[39;00m:\n\u001b[0;32m-> 3802\u001b[0m     \u001b[38;5;28;01mreturn\u001b[39;00m \u001b[38;5;28;43mself\u001b[39;49m\u001b[38;5;241;43m.\u001b[39;49m\u001b[43m_engine\u001b[49m\u001b[38;5;241;43m.\u001b[39;49m\u001b[43mget_loc\u001b[49m\u001b[43m(\u001b[49m\u001b[43mcasted_key\u001b[49m\u001b[43m)\u001b[49m\n\u001b[1;32m   3803\u001b[0m \u001b[38;5;28;01mexcept\u001b[39;00m \u001b[38;5;167;01mKeyError\u001b[39;00m \u001b[38;5;28;01mas\u001b[39;00m err:\n",
      "File \u001b[0;32mindex.pyx:153\u001b[0m, in \u001b[0;36mpandas._libs.index.IndexEngine.get_loc\u001b[0;34m()\u001b[0m\n",
      "File \u001b[0;32mindex.pyx:182\u001b[0m, in \u001b[0;36mpandas._libs.index.IndexEngine.get_loc\u001b[0;34m()\u001b[0m\n",
      "File \u001b[0;32mpandas/_libs/hashtable_class_helper.pxi:7081\u001b[0m, in \u001b[0;36mpandas._libs.hashtable.PyObjectHashTable.get_item\u001b[0;34m()\u001b[0m\n",
      "File \u001b[0;32mpandas/_libs/hashtable_class_helper.pxi:7089\u001b[0m, in \u001b[0;36mpandas._libs.hashtable.PyObjectHashTable.get_item\u001b[0;34m()\u001b[0m\n",
      "\u001b[0;31mKeyError\u001b[0m: 'Conversas por mensagem iniciadas'",
      "\nThe above exception was the direct cause of the following exception:\n",
      "\u001b[0;31mKeyError\u001b[0m                                  Traceback (most recent call last)",
      "Cell \u001b[0;32mIn[16], line 18\u001b[0m\n\u001b[1;32m     16\u001b[0m \u001b[38;5;66;03m# Preparação dos dados para a matriz de correlação: conversão para numérico\u001b[39;00m\n\u001b[1;32m     17\u001b[0m \u001b[38;5;28;01mfor\u001b[39;00m coluna \u001b[38;5;129;01min\u001b[39;00m metricas_principais:\n\u001b[0;32m---> 18\u001b[0m     df[coluna] \u001b[38;5;241m=\u001b[39m pd\u001b[38;5;241m.\u001b[39mto_numeric(\u001b[43mdf\u001b[49m\u001b[43m[\u001b[49m\u001b[43mcoluna\u001b[49m\u001b[43m]\u001b[49m, errors\u001b[38;5;241m=\u001b[39m\u001b[38;5;124m\"\u001b[39m\u001b[38;5;124mcoerce\u001b[39m\u001b[38;5;124m\"\u001b[39m)\n\u001b[1;32m     20\u001b[0m \u001b[38;5;66;03m# Cálculo da matriz de correlação e visualização\u001b[39;00m\n\u001b[1;32m     21\u001b[0m correlacao \u001b[38;5;241m=\u001b[39m df[metricas_principais]\u001b[38;5;241m.\u001b[39mcorr()\n",
      "File \u001b[0;32m~/.local/lib/python3.10/site-packages/pandas/core/frame.py:4090\u001b[0m, in \u001b[0;36mDataFrame.__getitem__\u001b[0;34m(self, key)\u001b[0m\n\u001b[1;32m   4088\u001b[0m \u001b[38;5;28;01mif\u001b[39;00m \u001b[38;5;28mself\u001b[39m\u001b[38;5;241m.\u001b[39mcolumns\u001b[38;5;241m.\u001b[39mnlevels \u001b[38;5;241m>\u001b[39m \u001b[38;5;241m1\u001b[39m:\n\u001b[1;32m   4089\u001b[0m     \u001b[38;5;28;01mreturn\u001b[39;00m \u001b[38;5;28mself\u001b[39m\u001b[38;5;241m.\u001b[39m_getitem_multilevel(key)\n\u001b[0;32m-> 4090\u001b[0m indexer \u001b[38;5;241m=\u001b[39m \u001b[38;5;28;43mself\u001b[39;49m\u001b[38;5;241;43m.\u001b[39;49m\u001b[43mcolumns\u001b[49m\u001b[38;5;241;43m.\u001b[39;49m\u001b[43mget_loc\u001b[49m\u001b[43m(\u001b[49m\u001b[43mkey\u001b[49m\u001b[43m)\u001b[49m\n\u001b[1;32m   4091\u001b[0m \u001b[38;5;28;01mif\u001b[39;00m is_integer(indexer):\n\u001b[1;32m   4092\u001b[0m     indexer \u001b[38;5;241m=\u001b[39m [indexer]\n",
      "File \u001b[0;32m~/.local/lib/python3.10/site-packages/pandas/core/indexes/base.py:3809\u001b[0m, in \u001b[0;36mIndex.get_loc\u001b[0;34m(self, key)\u001b[0m\n\u001b[1;32m   3804\u001b[0m     \u001b[38;5;28;01mif\u001b[39;00m \u001b[38;5;28misinstance\u001b[39m(casted_key, \u001b[38;5;28mslice\u001b[39m) \u001b[38;5;129;01mor\u001b[39;00m (\n\u001b[1;32m   3805\u001b[0m         \u001b[38;5;28misinstance\u001b[39m(casted_key, abc\u001b[38;5;241m.\u001b[39mIterable)\n\u001b[1;32m   3806\u001b[0m         \u001b[38;5;129;01mand\u001b[39;00m \u001b[38;5;28many\u001b[39m(\u001b[38;5;28misinstance\u001b[39m(x, \u001b[38;5;28mslice\u001b[39m) \u001b[38;5;28;01mfor\u001b[39;00m x \u001b[38;5;129;01min\u001b[39;00m casted_key)\n\u001b[1;32m   3807\u001b[0m     ):\n\u001b[1;32m   3808\u001b[0m         \u001b[38;5;28;01mraise\u001b[39;00m InvalidIndexError(key)\n\u001b[0;32m-> 3809\u001b[0m     \u001b[38;5;28;01mraise\u001b[39;00m \u001b[38;5;167;01mKeyError\u001b[39;00m(key) \u001b[38;5;28;01mfrom\u001b[39;00m \u001b[38;5;21;01merr\u001b[39;00m\n\u001b[1;32m   3810\u001b[0m \u001b[38;5;28;01mexcept\u001b[39;00m \u001b[38;5;167;01mTypeError\u001b[39;00m:\n\u001b[1;32m   3811\u001b[0m     \u001b[38;5;66;03m# If we have a listlike key, _check_indexing_error will raise\u001b[39;00m\n\u001b[1;32m   3812\u001b[0m     \u001b[38;5;66;03m#  InvalidIndexError. Otherwise we fall through and re-raise\u001b[39;00m\n\u001b[1;32m   3813\u001b[0m     \u001b[38;5;66;03m#  the TypeError.\u001b[39;00m\n\u001b[1;32m   3814\u001b[0m     \u001b[38;5;28mself\u001b[39m\u001b[38;5;241m.\u001b[39m_check_indexing_error(key)\n",
      "\u001b[0;31mKeyError\u001b[0m: 'Conversas por mensagem iniciadas'"
     ]
    }
   ],
   "source": [
    "# Definindo as métricas principais para a análise\n",
    "metricas_principais = [\n",
    "    \"Alcance\",\n",
    "    \"Impressões\",\n",
    "    \"Frequência\",\n",
    "    \"Valor usado (BRL)\",\n",
    "    \"Resultados\",\n",
    "    \"CPM (custo por 1.000 impressões)\",\n",
    "    \"CTR\",\n",
    "    \"CPC (todos)\",\n",
    "    \"Cliques (todos)\",\n",
    "    \"Engajamento com a Página\",\n",
    "]\n",
    "\n",
    "# Preparação dos dados para a matriz de correlação: conversão para numérico\n",
    "for coluna in metricas_principais:\n",
    "    df[coluna] = pd.to_numeric(df[coluna], errors=\"coerce\")\n",
    "\n",
    "# Cálculo da matriz de correlação e visualização\n",
    "correlacao = df[metricas_principais].corr()\n",
    "plt.figure(figsize=(12, 8))\n",
    "sns.heatmap(correlacao, annot=True, cmap=\"coolwarm\", fmt=\".2f\")\n",
    "plt.title(\"Matriz de Correlação das Métricas de Desempenho\")\n",
    "plt.show()"
   ]
  },
  {
   "cell_type": "markdown",
   "metadata": {},
   "source": [
    "# Identificação de Correlações Relevantes - CTR e Resultados"
   ]
  },
  {
   "cell_type": "markdown",
   "metadata": {},
   "source": [
    "**CTR Calculado**: É a taxa de cliques, ou seja, quantas pessoas clicaram no anúncio em relação a quantas vezes ele foi exibido.\n",
    "\n",
    "**Resultado**: Refere-se às ações que queremos alcançar com o anúncio, como vendas, leads ou outras conversões. O número -0,50 indica uma **correlação negativa moderada** entre esses dois fatores. Quando o CTR aumenta, o número de resultados (como vendas ou leads) tende a diminuir, e vice-versa. Isso é um pouco inesperado, porque normalmente, pensamos que mais cliques (CTR mais alto) levariam a mais resultados.\n",
    "\n",
    "\n",
    "**Insight**: Esse dado sugere que, mesmo que muitos cliquem no anúncio, esses cliques não estão se transformando em ações que geram valor, como conversões. Isso pode acontecer porque o público talvez não seja o mais adequado ou porque algo na página de destino está fazendo as pessoas desistirem.\n"
   ]
  },
  {
   "cell_type": "code",
   "execution_count": 15,
   "metadata": {},
   "outputs": [
    {
     "name": "stdout",
     "output_type": "stream",
     "text": [
      "Correlação entre CTR calculado e Resultados: 0.35\n"
     ]
    }
   ],
   "source": [
    "# Remover linhas com valores ausentes em 'CTR_calculado' ou 'Resultados'\n",
    "df_corr = df[[\"CTR\", \"Resultados\"]].dropna()\n",
    "\n",
    "# Exemplo de correlação específica entre CTR calculado e Resultados\n",
    "correlacao_ctr_resultados, _ = pearsonr(df_corr[\"CTR\"], df_corr[\"Resultados\"])\n",
    "print(f\"Correlação entre CTR calculado e Resultados: {correlacao_ctr_resultados:.2f}\")"
   ]
  },
  {
   "cell_type": "markdown",
   "metadata": {},
   "source": [
    "# Recomendações para Reativação ou Criação de Novos Criativos"
   ]
  },
  {
   "cell_type": "code",
   "execution_count": null,
   "metadata": {},
   "outputs": [],
   "source": []
  },
  {
   "cell_type": "markdown",
   "metadata": {},
   "source": []
  }
 ],
 "metadata": {
  "kernelspec": {
   "display_name": "Python 3",
   "language": "python",
   "name": "python3"
  },
  "language_info": {
   "codemirror_mode": {
    "name": "ipython",
    "version": 3
   },
   "file_extension": ".py",
   "mimetype": "text/x-python",
   "name": "python",
   "nbconvert_exporter": "python",
   "pygments_lexer": "ipython3",
   "version": "3.10.12"
  }
 },
 "nbformat": 4,
 "nbformat_minor": 2
}
