{
 "cells": [
  {
   "cell_type": "markdown",
   "metadata": {},
   "source": [
    "### Importando as bibliotecas necessárias"
   ]
  },
  {
   "cell_type": "code",
   "execution_count": 1,
   "metadata": {},
   "outputs": [
    {
     "name": "stderr",
     "output_type": "stream",
     "text": [
      "/usr/lib/python3/dist-packages/scipy/__init__.py:146: UserWarning: A NumPy version >=1.17.3 and <1.25.0 is required for this version of SciPy (detected version 1.25.2\n",
      "  warnings.warn(f\"A NumPy version >={np_minversion} and <{np_maxversion}\"\n"
     ]
    }
   ],
   "source": [
    "import pandas as pd\n",
    "import numpy as np\n",
    "import matplotlib.pyplot as plt\n",
    "import seaborn as sns\n",
    "import warnings\n",
    "warnings.filterwarnings('ignore')"
   ]
  },
  {
   "cell_type": "markdown",
   "metadata": {},
   "source": [
    "#### Carregando o arquivo CSV em um DataFrame\n",
    "#### Neste passo, carregaremos o arquivo CSV com os dados dos anúncios em um DataFrame do pandas\n",
    "#### Certifique-se de ter o arquivo 'miro_dados_brutos_ultimos_30_dias.csv' no mesmo diretório deste notebook"
   ]
  },
  {
   "cell_type": "code",
   "execution_count": 2,
   "metadata": {},
   "outputs": [],
   "source": [
    "dados_anuncios = pd.read_csv(\"miro_dados_brutos_ultimos_30_dias.csv\")"
   ]
  },
  {
   "cell_type": "code",
   "execution_count": 3,
   "metadata": {},
   "outputs": [
    {
     "name": "stdout",
     "output_type": "stream",
     "text": [
      "Primeiras 5 linhas do dataset:\n"
     ]
    },
    {
     "data": {
      "text/html": [
       "<div>\n",
       "<style scoped>\n",
       "    .dataframe tbody tr th:only-of-type {\n",
       "        vertical-align: middle;\n",
       "    }\n",
       "\n",
       "    .dataframe tbody tr th {\n",
       "        vertical-align: top;\n",
       "    }\n",
       "\n",
       "    .dataframe thead th {\n",
       "        text-align: right;\n",
       "    }\n",
       "</style>\n",
       "<table border=\"1\" class=\"dataframe\">\n",
       "  <thead>\n",
       "    <tr style=\"text-align: right;\">\n",
       "      <th></th>\n",
       "      <th>Nome do anúncio</th>\n",
       "      <th>Alcance</th>\n",
       "      <th>Impressões</th>\n",
       "      <th>Frequência</th>\n",
       "      <th>Valor usado (BRL)</th>\n",
       "      <th>Cliques (todos)</th>\n",
       "      <th>CPC (todos)</th>\n",
       "      <th>CTR (todos)</th>\n",
       "      <th>CPM (custo por 1.000 impressões)</th>\n",
       "      <th>Engajamento com a Página</th>\n",
       "      <th>...</th>\n",
       "      <th>Resultados</th>\n",
       "      <th>Custo por resultado</th>\n",
       "      <th>Classificação de qualidade</th>\n",
       "      <th>Contatos por mensagem</th>\n",
       "      <th>Novos contatos de mensagem</th>\n",
       "      <th>CTR único (todos)</th>\n",
       "      <th>Custo por clique único (todos)</th>\n",
       "      <th>CPC (custo por clique no link)</th>\n",
       "      <th>Início dos relatórios</th>\n",
       "      <th>Término dos relatórios</th>\n",
       "    </tr>\n",
       "  </thead>\n",
       "  <tbody>\n",
       "    <tr>\n",
       "      <th>0</th>\n",
       "      <td>AD 01 - VIDEO - 16/09/2024</td>\n",
       "      <td>93274</td>\n",
       "      <td>159312</td>\n",
       "      <td>1.708000</td>\n",
       "      <td>301.59</td>\n",
       "      <td>140</td>\n",
       "      <td>2.154214</td>\n",
       "      <td>0.087878</td>\n",
       "      <td>1.893078</td>\n",
       "      <td>5992.0</td>\n",
       "      <td>...</td>\n",
       "      <td>93274</td>\n",
       "      <td>3.233377</td>\n",
       "      <td>Acima da média</td>\n",
       "      <td>NaN</td>\n",
       "      <td>NaN</td>\n",
       "      <td>0.147951</td>\n",
       "      <td>2.185435</td>\n",
       "      <td>150.795</td>\n",
       "      <td>2024-10-04</td>\n",
       "      <td>2024-11-02</td>\n",
       "    </tr>\n",
       "    <tr>\n",
       "      <th>1</th>\n",
       "      <td>AD 01 - VIDEO - 01/10/2024</td>\n",
       "      <td>79930</td>\n",
       "      <td>142351</td>\n",
       "      <td>1.780946</td>\n",
       "      <td>266.13</td>\n",
       "      <td>115</td>\n",
       "      <td>2.314174</td>\n",
       "      <td>0.080786</td>\n",
       "      <td>1.869534</td>\n",
       "      <td>4417.0</td>\n",
       "      <td>...</td>\n",
       "      <td>79930</td>\n",
       "      <td>3.329538</td>\n",
       "      <td>Acima da média</td>\n",
       "      <td>NaN</td>\n",
       "      <td>NaN</td>\n",
       "      <td>0.137620</td>\n",
       "      <td>2.419364</td>\n",
       "      <td>133.065</td>\n",
       "      <td>2024-10-04</td>\n",
       "      <td>2024-11-02</td>\n",
       "    </tr>\n",
       "    <tr>\n",
       "      <th>2</th>\n",
       "      <td>AD 01 - STORY - 16/10/2024</td>\n",
       "      <td>59677</td>\n",
       "      <td>74129</td>\n",
       "      <td>1.242170</td>\n",
       "      <td>119.48</td>\n",
       "      <td>35</td>\n",
       "      <td>3.413714</td>\n",
       "      <td>0.047215</td>\n",
       "      <td>1.611785</td>\n",
       "      <td>5.0</td>\n",
       "      <td>...</td>\n",
       "      <td>59677</td>\n",
       "      <td>2.002111</td>\n",
       "      <td>Na média</td>\n",
       "      <td>NaN</td>\n",
       "      <td>NaN</td>\n",
       "      <td>0.058649</td>\n",
       "      <td>3.413714</td>\n",
       "      <td>NaN</td>\n",
       "      <td>2024-10-04</td>\n",
       "      <td>2024-11-02</td>\n",
       "    </tr>\n",
       "    <tr>\n",
       "      <th>3</th>\n",
       "      <td>AD 03 - STORY - 15/10/2024</td>\n",
       "      <td>4526</td>\n",
       "      <td>4699</td>\n",
       "      <td>1.038224</td>\n",
       "      <td>8.13</td>\n",
       "      <td>3</td>\n",
       "      <td>2.710000</td>\n",
       "      <td>0.063843</td>\n",
       "      <td>1.730155</td>\n",
       "      <td>NaN</td>\n",
       "      <td>...</td>\n",
       "      <td>4526</td>\n",
       "      <td>1.796288</td>\n",
       "      <td>Acima da média</td>\n",
       "      <td>NaN</td>\n",
       "      <td>NaN</td>\n",
       "      <td>0.066284</td>\n",
       "      <td>2.710000</td>\n",
       "      <td>NaN</td>\n",
       "      <td>2024-10-04</td>\n",
       "      <td>2024-11-02</td>\n",
       "    </tr>\n",
       "    <tr>\n",
       "      <th>4</th>\n",
       "      <td>AD 02 - VIDEO - 16/09/2024</td>\n",
       "      <td>3833</td>\n",
       "      <td>4004</td>\n",
       "      <td>1.044613</td>\n",
       "      <td>7.53</td>\n",
       "      <td>3</td>\n",
       "      <td>2.510000</td>\n",
       "      <td>0.074925</td>\n",
       "      <td>1.880619</td>\n",
       "      <td>287.0</td>\n",
       "      <td>...</td>\n",
       "      <td>3833</td>\n",
       "      <td>1.964519</td>\n",
       "      <td>Na média</td>\n",
       "      <td>NaN</td>\n",
       "      <td>NaN</td>\n",
       "      <td>0.078268</td>\n",
       "      <td>2.510000</td>\n",
       "      <td>NaN</td>\n",
       "      <td>2024-10-04</td>\n",
       "      <td>2024-11-02</td>\n",
       "    </tr>\n",
       "  </tbody>\n",
       "</table>\n",
       "<p>5 rows × 29 columns</p>\n",
       "</div>"
      ],
      "text/plain": [
       "              Nome do anúncio  Alcance  Impressões  Frequência  \\\n",
       "0  AD 01 - VIDEO - 16/09/2024    93274      159312    1.708000   \n",
       "1  AD 01 - VIDEO - 01/10/2024    79930      142351    1.780946   \n",
       "2  AD 01 - STORY - 16/10/2024    59677       74129    1.242170   \n",
       "3  AD 03 - STORY - 15/10/2024     4526        4699    1.038224   \n",
       "4  AD 02 - VIDEO - 16/09/2024     3833        4004    1.044613   \n",
       "\n",
       "   Valor usado (BRL)  Cliques (todos)  CPC (todos)  CTR (todos)  \\\n",
       "0             301.59              140     2.154214     0.087878   \n",
       "1             266.13              115     2.314174     0.080786   \n",
       "2             119.48               35     3.413714     0.047215   \n",
       "3               8.13                3     2.710000     0.063843   \n",
       "4               7.53                3     2.510000     0.074925   \n",
       "\n",
       "   CPM (custo por 1.000 impressões)  Engajamento com a Página  ...  \\\n",
       "0                          1.893078                    5992.0  ...   \n",
       "1                          1.869534                    4417.0  ...   \n",
       "2                          1.611785                       5.0  ...   \n",
       "3                          1.730155                       NaN  ...   \n",
       "4                          1.880619                     287.0  ...   \n",
       "\n",
       "   Resultados  Custo por resultado  Classificação de qualidade  \\\n",
       "0       93274             3.233377              Acima da média   \n",
       "1       79930             3.329538              Acima da média   \n",
       "2       59677             2.002111                    Na média   \n",
       "3        4526             1.796288              Acima da média   \n",
       "4        3833             1.964519                    Na média   \n",
       "\n",
       "   Contatos por mensagem  Novos contatos de mensagem  CTR único (todos)  \\\n",
       "0                    NaN                         NaN           0.147951   \n",
       "1                    NaN                         NaN           0.137620   \n",
       "2                    NaN                         NaN           0.058649   \n",
       "3                    NaN                         NaN           0.066284   \n",
       "4                    NaN                         NaN           0.078268   \n",
       "\n",
       "   Custo por clique único (todos) CPC (custo por clique no link)  \\\n",
       "0                        2.185435                        150.795   \n",
       "1                        2.419364                        133.065   \n",
       "2                        3.413714                            NaN   \n",
       "3                        2.710000                            NaN   \n",
       "4                        2.510000                            NaN   \n",
       "\n",
       "  Início dos relatórios  Término dos relatórios  \n",
       "0            2024-10-04              2024-11-02  \n",
       "1            2024-10-04              2024-11-02  \n",
       "2            2024-10-04              2024-11-02  \n",
       "3            2024-10-04              2024-11-02  \n",
       "4            2024-10-04              2024-11-02  \n",
       "\n",
       "[5 rows x 29 columns]"
      ]
     },
     "metadata": {},
     "output_type": "display_data"
    }
   ],
   "source": [
    "# Exibe as primeiras 5 linhas do dataset\n",
    "print(\"Primeiras 5 linhas do dataset:\")\n",
    "display(dados_anuncios.head())"
   ]
  },
  {
   "cell_type": "markdown",
   "metadata": {},
   "source": [
    "### Verificação de tipos e conversão para tipos mais apropriados"
   ]
  },
  {
   "cell_type": "code",
   "execution_count": 4,
   "metadata": {},
   "outputs": [
    {
     "name": "stdout",
     "output_type": "stream",
     "text": [
      "\n",
      "Resumo das colunas e tipos de dados:\n"
     ]
    },
    {
     "data": {
      "text/plain": [
       "Nome do anúncio                      object\n",
       "Alcance                               int64\n",
       "Impressões                            int64\n",
       "Frequência                          float64\n",
       "Valor usado (BRL)                   float64\n",
       "Cliques (todos)                       int64\n",
       "CPC (todos)                         float64\n",
       "CTR (todos)                         float64\n",
       "CPM (custo por 1.000 impressões)    float64\n",
       "Engajamento com a Página            float64\n",
       "Conversas por mensagem iniciadas    float64\n",
       "Reproduções de 25% do vídeo         float64\n",
       "Reproduções de 50% do vídeo         float64\n",
       "Reproduções de 75% do vídeo         float64\n",
       "Reproduções de 95% do vídeo         float64\n",
       "Reproduções de 100% do vídeo        float64\n",
       "Orçamento da campanha                 int64\n",
       "Tipo de orçamento da campanha        object\n",
       "Tipo de resultado                    object\n",
       "Resultados                            int64\n",
       "Custo por resultado                 float64\n",
       "Classificação de qualidade           object\n",
       "Contatos por mensagem               float64\n",
       "Novos contatos de mensagem          float64\n",
       "CTR único (todos)                   float64\n",
       "Custo por clique único (todos)      float64\n",
       "CPC (custo por clique no link)      float64\n",
       "Início dos relatórios                object\n",
       "Término dos relatórios               object\n",
       "dtype: object"
      ]
     },
     "metadata": {},
     "output_type": "display_data"
    }
   ],
   "source": [
    "# Exibe tipos de dados de cada coluna\n",
    "print(\"\\nResumo das colunas e tipos de dados:\")\n",
    "display(dados_anuncios.dtypes)"
   ]
  },
  {
   "cell_type": "code",
   "execution_count": 5,
   "metadata": {},
   "outputs": [
    {
     "name": "stdout",
     "output_type": "stream",
     "text": [
      "\n",
      "Tipos de dados após conversão:\n",
      "Nome do anúncio                     string[python]\n",
      "Alcance                                      Int64\n",
      "Impressões                                   Int64\n",
      "Frequência                                 Float64\n",
      "Valor usado (BRL)                          Float64\n",
      "Cliques (todos)                              Int64\n",
      "CPC (todos)                                Float64\n",
      "CTR (todos)                                Float64\n",
      "CPM (custo por 1.000 impressões)           Float64\n",
      "Engajamento com a Página                     Int64\n",
      "Conversas por mensagem iniciadas             Int64\n",
      "Reproduções de 25% do vídeo                  Int64\n",
      "Reproduções de 50% do vídeo                  Int64\n",
      "Reproduções de 75% do vídeo                  Int64\n",
      "Reproduções de 95% do vídeo                  Int64\n",
      "Reproduções de 100% do vídeo                 Int64\n",
      "Orçamento da campanha                        Int64\n",
      "Tipo de orçamento da campanha       string[python]\n",
      "Tipo de resultado                   string[python]\n",
      "Resultados                                   Int64\n",
      "Custo por resultado                        Float64\n",
      "Classificação de qualidade          string[python]\n",
      "Contatos por mensagem                        Int64\n",
      "Novos contatos de mensagem                   Int64\n",
      "CTR único (todos)                          Float64\n",
      "Custo por clique único (todos)             Float64\n",
      "CPC (custo por clique no link)             Float64\n",
      "Início dos relatórios               string[python]\n",
      "Término dos relatórios              string[python]\n",
      "dtype: object\n"
     ]
    }
   ],
   "source": [
    "# Conversão de tipos de dados\n",
    "dados_anuncios = dados_anuncios.convert_dtypes()  # Converte colunas para tipos apropriados automaticamente\n",
    "print(\"\\nTipos de dados após conversão:\")\n",
    "print(dados_anuncios.dtypes)"
   ]
  },
  {
   "cell_type": "markdown",
   "metadata": {},
   "source": [
    "### Verificação de Valores Ausentes: Adiciona uma análise de valores ausentes por coluna, permitindo identificar colunas que necessitam de tratamento adicional."
   ]
  },
  {
   "cell_type": "code",
   "execution_count": 6,
   "metadata": {},
   "outputs": [
    {
     "name": "stdout",
     "output_type": "stream",
     "text": [
      "\n",
      "Valores ausentes por coluna:\n",
      "Nome do anúncio                     0\n",
      "Alcance                             0\n",
      "Impressões                          0\n",
      "Frequência                          0\n",
      "Valor usado (BRL)                   0\n",
      "Cliques (todos)                     0\n",
      "CPC (todos)                         0\n",
      "CTR (todos)                         0\n",
      "CPM (custo por 1.000 impressões)    0\n",
      "Engajamento com a Página            1\n",
      "Conversas por mensagem iniciadas    5\n",
      "Reproduções de 25% do vídeo         2\n",
      "Reproduções de 50% do vídeo         2\n",
      "Reproduções de 75% do vídeo         2\n",
      "Reproduções de 95% do vídeo         2\n",
      "Reproduções de 100% do vídeo        2\n",
      "Orçamento da campanha               0\n",
      "Tipo de orçamento da campanha       0\n",
      "Tipo de resultado                   0\n",
      "Resultados                          0\n",
      "Custo por resultado                 0\n",
      "Classificação de qualidade          0\n",
      "Contatos por mensagem               5\n",
      "Novos contatos de mensagem          5\n",
      "CTR único (todos)                   0\n",
      "Custo por clique único (todos)      0\n",
      "CPC (custo por clique no link)      3\n",
      "Início dos relatórios               0\n",
      "Término dos relatórios              0\n",
      "dtype: int64\n"
     ]
    }
   ],
   "source": [
    "#verificação de valores ausentes\n",
    "print(\"\\nValores ausentes por coluna:\")\n",
    "print(dados_anuncios.isnull().sum())"
   ]
  },
  {
   "cell_type": "markdown",
   "metadata": {},
   "source": [
    "### Removendo linhas duplicadas\n",
    "### Vamos remover duplicatas, pois elas podem distorcer as métricas e análises dos dados de anúncios"
   ]
  },
  {
   "cell_type": "code",
   "execution_count": 7,
   "metadata": {},
   "outputs": [
    {
     "name": "stdout",
     "output_type": "stream",
     "text": [
      "Nenhuma linha duplicada encontrada.\n"
     ]
    }
   ],
   "source": [
    "# Identifica e exibe as linhas duplicadas antes de removê-las\n",
    "duplicatas = dados_anuncios[dados_anuncios.duplicated()]\n",
    "\n",
    "# Verifica se existem duplicatas e exibe uma mensagem\n",
    "if not duplicatas.empty:\n",
    "    print(\"Linhas duplicadas encontradas e que serão removidas:\")\n",
    "    display(duplicatas)  # Use a função display para exibir o DataFrame no Jupyter Notebook ou em ambientes compatíveis\n",
    "else:\n",
    "    print(\"Nenhuma linha duplicada encontrada.\")\n",
    "\n",
    "# Remove as linhas duplicadas\n",
    "dados_anuncios = dados_anuncios.drop_duplicates()\n"
   ]
  },
  {
   "cell_type": "markdown",
   "metadata": {},
   "source": [
    "### Removendo colunas vazias\n",
    "### Aqui, removeremos colunas que estejam completamente vazias, pois não contribuem para a análise"
   ]
  },
  {
   "cell_type": "code",
   "execution_count": 8,
   "metadata": {},
   "outputs": [
    {
     "name": "stdout",
     "output_type": "stream",
     "text": [
      "As seguintes colunas estão completamente vazias e serão removidas:\n",
      "['Conversas por mensagem iniciadas', 'Contatos por mensagem', 'Novos contatos de mensagem']\n"
     ]
    }
   ],
   "source": [
    "# Identifica colunas que estão completamente vazias (apenas NaN)\n",
    "colunas_vazias = dados_anuncios.columns[dados_anuncios.isna().all()].tolist()\n",
    "\n",
    "# Verifica se existem colunas vazias e exibe uma mensagem\n",
    "if colunas_vazias:\n",
    "    print(\"As seguintes colunas estão completamente vazias e serão removidas:\")\n",
    "    print(colunas_vazias)\n",
    "else:\n",
    "    print(\"Nenhuma coluna completamente vazia encontrada.\")\n",
    "\n",
    "# Remove as colunas completamente vazias\n",
    "dados_anuncios = dados_anuncios.dropna(axis=1, how='all')\n"
   ]
  },
  {
   "cell_type": "code",
   "execution_count": 9,
   "metadata": {},
   "outputs": [
    {
     "name": "stdout",
     "output_type": "stream",
     "text": [
      "\n",
      "Contagem de valores ausentes por coluna:\n"
     ]
    },
    {
     "data": {
      "text/plain": [
       "Nome do anúncio                     0\n",
       "Alcance                             0\n",
       "Impressões                          0\n",
       "Frequência                          0\n",
       "Valor usado (BRL)                   0\n",
       "Cliques (todos)                     0\n",
       "CPC (todos)                         0\n",
       "CTR (todos)                         0\n",
       "CPM (custo por 1.000 impressões)    0\n",
       "Engajamento com a Página            1\n",
       "Reproduções de 25% do vídeo         2\n",
       "Reproduções de 50% do vídeo         2\n",
       "Reproduções de 75% do vídeo         2\n",
       "Reproduções de 95% do vídeo         2\n",
       "Reproduções de 100% do vídeo        2\n",
       "Orçamento da campanha               0\n",
       "Tipo de orçamento da campanha       0\n",
       "Tipo de resultado                   0\n",
       "Resultados                          0\n",
       "Custo por resultado                 0\n",
       "Classificação de qualidade          0\n",
       "CTR único (todos)                   0\n",
       "Custo por clique único (todos)      0\n",
       "CPC (custo por clique no link)      3\n",
       "Início dos relatórios               0\n",
       "Término dos relatórios              0\n",
       "dtype: int64"
      ]
     },
     "metadata": {},
     "output_type": "display_data"
    }
   ],
   "source": [
    "# Contagem de valores ausentes por coluna\n",
    "print(\"\\nContagem de valores ausentes por coluna:\")\n",
    "display(dados_anuncios.isnull().sum())"
   ]
  },
  {
   "cell_type": "markdown",
   "metadata": {},
   "source": [
    "# Ajuste de tipos das colunas"
   ]
  },
  {
   "cell_type": "code",
   "execution_count": 10,
   "metadata": {},
   "outputs": [
    {
     "name": "stdout",
     "output_type": "stream",
     "text": [
      "Anúncios excluídos:\n"
     ]
    }
   ],
   "source": [
    "# Identificar as linhas onde o valor de 'Alcance' é igual a zero\n",
    "linhas_excluir = dados_anuncios[dados_anuncios['Alcance'] == 0]\n",
    "\n",
    "# Extrair os nomes dos anúncios que serão excluídos\n",
    "anuncios_excluidos = linhas_excluir['Nome do anúncio'].tolist()\n",
    "\n",
    "# Imprimir os nomes dos anúncios que serão excluídos de forma mais bonita\n",
    "print(\"Anúncios excluídos:\")\n",
    "for i, anuncio in enumerate(anuncios_excluidos, start=1):\n",
    "    print(f\"{i}. {anuncio}\")\n",
    "\n",
    "# Excluir as linhas onde 'Alcance' é igual a zero do DataFrame original\n",
    "dados_anuncios = dados_anuncios[dados_anuncios['Alcance'] != 0]\n",
    "\n",
    "# Resetar o índice após a exclusão\n",
    "dados_anuncios.reset_index(drop=True, inplace=True)\n"
   ]
  },
  {
   "cell_type": "code",
   "execution_count": 11,
   "metadata": {},
   "outputs": [],
   "source": [
    "# Colunas com valores de reproduções de vídeo que podem ser substituídos por 0, onde NaN significa 'sem reproduções'\n",
    "colunas_reproducoes = [\n",
    "    \"Reproduções de 25% do vídeo\",\n",
    "    \"Reproduções de 50% do vídeo\",\n",
    "    \"Reproduções de 75% do vídeo\",\n",
    "    \"Reproduções de 95% do vídeo\",\n",
    "    \"Reproduções de 100% do vídeo\",\n",
    "]\n",
    "\n",
    "# Substituição de valores NaN por zero\n",
    "dados_anuncios[colunas_reproducoes] = dados_anuncios[colunas_reproducoes].fillna(0)"
   ]
  },
  {
   "cell_type": "code",
   "execution_count": 12,
   "metadata": {},
   "outputs": [
    {
     "name": "stdout",
     "output_type": "stream",
     "text": [
      "<class 'pandas.core.frame.DataFrame'>\n",
      "RangeIndex: 5 entries, 0 to 4\n",
      "Data columns (total 26 columns):\n",
      " #   Column                            Non-Null Count  Dtype  \n",
      "---  ------                            --------------  -----  \n",
      " 0   Nome do anúncio                   5 non-null      string \n",
      " 1   Alcance                           5 non-null      Int64  \n",
      " 2   Impressões                        5 non-null      Int64  \n",
      " 3   Frequência                        5 non-null      Float64\n",
      " 4   Valor usado (BRL)                 5 non-null      Float64\n",
      " 5   Cliques (todos)                   5 non-null      Int64  \n",
      " 6   CPC (todos)                       5 non-null      Float64\n",
      " 7   CTR (todos)                       5 non-null      Float64\n",
      " 8   CPM (custo por 1.000 impressões)  5 non-null      Float64\n",
      " 9   Engajamento com a Página          4 non-null      Int64  \n",
      " 10  Reproduções de 25% do vídeo       5 non-null      Int64  \n",
      " 11  Reproduções de 50% do vídeo       5 non-null      Int64  \n",
      " 12  Reproduções de 75% do vídeo       5 non-null      Int64  \n",
      " 13  Reproduções de 95% do vídeo       5 non-null      Int64  \n",
      " 14  Reproduções de 100% do vídeo      5 non-null      Int64  \n",
      " 15  Orçamento da campanha             5 non-null      Int64  \n",
      " 16  Tipo de orçamento da campanha     5 non-null      string \n",
      " 17  Tipo de resultado                 5 non-null      string \n",
      " 18  Resultados                        5 non-null      Int64  \n",
      " 19  Custo por resultado               5 non-null      Float64\n",
      " 20  Classificação de qualidade        5 non-null      string \n",
      " 21  CTR único (todos)                 5 non-null      Float64\n",
      " 22  Custo por clique único (todos)    5 non-null      Float64\n",
      " 23  CPC (custo por clique no link)    2 non-null      Float64\n",
      " 24  Início dos relatórios             5 non-null      string \n",
      " 25  Término dos relatórios            5 non-null      string \n",
      "dtypes: Float64(9), Int64(11), string(6)\n",
      "memory usage: 1.2 KB\n"
     ]
    }
   ],
   "source": [
    "dados_anuncios.info()"
   ]
  },
  {
   "cell_type": "code",
   "execution_count": 13,
   "metadata": {},
   "outputs": [],
   "source": [
    "dados_anuncios.to_csv(\"miro_dados_limpos_miro_ultimos_30_dias.csv\", index=False)"
   ]
  }
 ],
 "metadata": {
  "kernelspec": {
   "display_name": "Python 3",
   "language": "python",
   "name": "python3"
  },
  "language_info": {
   "codemirror_mode": {
    "name": "ipython",
    "version": 3
   },
   "file_extension": ".py",
   "mimetype": "text/x-python",
   "name": "python",
   "nbconvert_exporter": "python",
   "pygments_lexer": "ipython3",
   "version": "3.10.12"
  }
 },
 "nbformat": 4,
 "nbformat_minor": 2
}
