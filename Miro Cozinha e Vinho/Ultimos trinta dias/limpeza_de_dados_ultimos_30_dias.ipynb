{
 "cells": [
  {
   "cell_type": "markdown",
   "metadata": {},
   "source": [
    "### Importando as bibliotecas necessárias"
   ]
  },
  {
   "cell_type": "code",
   "execution_count": 14,
   "metadata": {},
   "outputs": [],
   "source": [
    "import pandas as pd\n",
    "import numpy as np\n",
    "import matplotlib.pyplot as plt\n",
    "import seaborn as sns\n",
    "import locale\n",
    "import openpyxl\n",
    "import re"
   ]
  },
  {
   "cell_type": "markdown",
   "metadata": {},
   "source": [
    "#### Carregando o arquivo CSV em um DataFrame\n",
    "#### Neste passo, carregaremos o arquivo CSV com os dados dos anúncios em um DataFrame do pandas\n",
    "#### Certifique-se de ter o arquivo ANÁLISE-DE-MÉTRICAS-POR-ANÚNCIO-ÚLTIMOS-30-DIAS.csv no mesmo diretório deste notebook"
   ]
  },
  {
   "cell_type": "code",
   "execution_count": 15,
   "metadata": {},
   "outputs": [],
   "source": [
    "dados_anuncios = pd.read_csv('ANÁLISE-DE-MÉTRICAS-POR-ANÚNCIO-ÚLTIMOS-30-DIAS.csv')"
   ]
  },
  {
   "cell_type": "code",
   "execution_count": 16,
   "metadata": {},
   "outputs": [
    {
     "data": {
      "text/plain": [
       "Index(['Nome do anúncio', 'Alcance', 'Impressões', 'Frequência',\n",
       "       'Valor usado (BRL)', 'Configuração de atribuição', 'Tipo de resultado',\n",
       "       'Resultados', 'Custo por resultado', 'CPM (custo por 1.000 impressões)',\n",
       "       'CTR (todos)', 'Classificação de qualidade',\n",
       "       'Classificação da taxa de engajamento', 'Custo por lead',\n",
       "       'Valor médio de conversão de compra',\n",
       "       'Conversas por mensagem iniciadas',\n",
       "       'Custo por conversa por mensagem iniciada',\n",
       "       'CPC (custo por clique no link)', 'Cliques (todos)',\n",
       "       'Engajamento com a Página', 'Reproduções de 25% do vídeo',\n",
       "       'Reproduções de 50% do vídeo', 'Reproduções de 75% do vídeo',\n",
       "       'Reproduções de 95% do vídeo', 'Reproduções de 100% do vídeo',\n",
       "       'Início dos relatórios', 'Término dos relatórios'],\n",
       "      dtype='object')"
      ]
     },
     "execution_count": 16,
     "metadata": {},
     "output_type": "execute_result"
    }
   ],
   "source": [
    "dados_anuncios.columns"
   ]
  },
  {
   "cell_type": "markdown",
   "metadata": {},
   "source": [
    "### Removendo linhas duplicadas\n",
    "### Vamos remover duplicatas, pois elas podem distorcer as métricas e análises dos dados de anúncios"
   ]
  },
  {
   "cell_type": "code",
   "execution_count": 17,
   "metadata": {},
   "outputs": [
    {
     "name": "stdout",
     "output_type": "stream",
     "text": [
      "Linhas duplicadas encontradas e que serão removidas:\n",
      "                     Nome do anúncio  Alcance  Impressões  Frequência  \\\n",
      "27       AD 03 - CARROSSEL - 17 | 08        0           0         0.0   \n",
      "29            AD 01 - IMAGEM STORIES        0           0         0.0   \n",
      "32     AD 01 - CARROSSEL 1 - 18 | 04        0           0         0.0   \n",
      "34                 AD 01 - CARROSSEL        0           0         0.0   \n",
      "43    AD 01 - IMAGEM ÚNICA - 18 | 08        0           0         0.0   \n",
      "44         AD 03 CARROSSEL - 06 | 10        0           0         0.0   \n",
      "47    AD 02 - IMAGEM ÚNICA - 18 | 08        0           0         0.0   \n",
      "48                 AD 01 - CARROSSEL        0           0         0.0   \n",
      "50      AD 01 IMAGEM ÚNICA - 06 | 10        0           0         0.0   \n",
      "51    AD 02 - IMAGEM ÚNICA - 18 | 08        0           0         0.0   \n",
      "53            AD 02 - IMAGEM STORIES        0           0         0.0   \n",
      "57     AD 01 - CARROSSEL 1 - 18 | 04        0           0         0.0   \n",
      "58  AD 01 - VÍDEO STORIES - 04/04/24        0           0         0.0   \n",
      "60    AD 02 - IMAGEM ÚNICA - 17 | 08        0           0         0.0   \n",
      "62       AD 03 - CARROSSEL - 18 | 08        0           0         0.0   \n",
      "63    AD 01 - IMAGEM ÚNICA - 18 | 08        0           0         0.0   \n",
      "64    AD 01 - IMAGEM ÚNICA - 17 | 08        0           0         0.0   \n",
      "67      AD 02 IMAGEM ÚNICA - 06 | 10        0           0         0.0   \n",
      "69                 AD 01 - CARROSSEL        0           0         0.0   \n",
      "71       AD 03 - CARROSSEL - 18 | 08        0           0         0.0   \n",
      "72     AD 02 - CARROSSEL 1 - 18 | 04        0           0         0.0   \n",
      "73       AD 01 - CARROSSEL - 17 | 02        0           0         0.0   \n",
      "\n",
      "    Valor usado (BRL) Configuração de atribuição Tipo de resultado  \\\n",
      "27                0.0                        NaN               NaN   \n",
      "29                0.0                        NaN               NaN   \n",
      "32                0.0                        NaN               NaN   \n",
      "34                0.0                        NaN               NaN   \n",
      "43                0.0                        NaN               NaN   \n",
      "44                0.0                        NaN               NaN   \n",
      "47                0.0                        NaN               NaN   \n",
      "48                0.0                        NaN               NaN   \n",
      "50                0.0                        NaN               NaN   \n",
      "51                0.0                        NaN               NaN   \n",
      "53                0.0                        NaN               NaN   \n",
      "57                0.0                        NaN               NaN   \n",
      "58                0.0                        NaN               NaN   \n",
      "60                0.0                        NaN               NaN   \n",
      "62                0.0                        NaN               NaN   \n",
      "63                0.0                        NaN               NaN   \n",
      "64                0.0                        NaN               NaN   \n",
      "67                0.0                        NaN               NaN   \n",
      "69                0.0                        NaN               NaN   \n",
      "71                0.0                        NaN               NaN   \n",
      "72                0.0                        NaN               NaN   \n",
      "73                0.0                        NaN               NaN   \n",
      "\n",
      "    Resultados  Custo por resultado  CPM (custo por 1.000 impressões)  ...  \\\n",
      "27         NaN                  NaN                               NaN  ...   \n",
      "29         NaN                  NaN                               NaN  ...   \n",
      "32         NaN                  NaN                               NaN  ...   \n",
      "34         NaN                  NaN                               NaN  ...   \n",
      "43         NaN                  NaN                               NaN  ...   \n",
      "44         NaN                  NaN                               NaN  ...   \n",
      "47         NaN                  NaN                               NaN  ...   \n",
      "48         NaN                  NaN                               NaN  ...   \n",
      "50         NaN                  NaN                               NaN  ...   \n",
      "51         NaN                  NaN                               NaN  ...   \n",
      "53         NaN                  NaN                               NaN  ...   \n",
      "57         NaN                  NaN                               NaN  ...   \n",
      "58         NaN                  NaN                               NaN  ...   \n",
      "60         NaN                  NaN                               NaN  ...   \n",
      "62         NaN                  NaN                               NaN  ...   \n",
      "63         NaN                  NaN                               NaN  ...   \n",
      "64         NaN                  NaN                               NaN  ...   \n",
      "67         NaN                  NaN                               NaN  ...   \n",
      "69         NaN                  NaN                               NaN  ...   \n",
      "71         NaN                  NaN                               NaN  ...   \n",
      "72         NaN                  NaN                               NaN  ...   \n",
      "73         NaN                  NaN                               NaN  ...   \n",
      "\n",
      "    CPC (custo por clique no link) Cliques (todos) Engajamento com a Página  \\\n",
      "27                             NaN               0                      NaN   \n",
      "29                             NaN               0                      NaN   \n",
      "32                             NaN               0                      NaN   \n",
      "34                             NaN               0                      NaN   \n",
      "43                             NaN               0                      NaN   \n",
      "44                             NaN               0                      NaN   \n",
      "47                             NaN               0                      NaN   \n",
      "48                             NaN               0                      NaN   \n",
      "50                             NaN               0                      NaN   \n",
      "51                             NaN               0                      NaN   \n",
      "53                             NaN               0                      NaN   \n",
      "57                             NaN               0                      NaN   \n",
      "58                             NaN               0                      NaN   \n",
      "60                             NaN               0                      NaN   \n",
      "62                             NaN               0                      NaN   \n",
      "63                             NaN               0                      NaN   \n",
      "64                             NaN               0                      NaN   \n",
      "67                             NaN               0                      NaN   \n",
      "69                             NaN               0                      NaN   \n",
      "71                             NaN               0                      NaN   \n",
      "72                             NaN               0                      NaN   \n",
      "73                             NaN               0                      NaN   \n",
      "\n",
      "    Reproduções de 25% do vídeo  Reproduções de 50% do vídeo  \\\n",
      "27                          NaN                          NaN   \n",
      "29                          NaN                          NaN   \n",
      "32                          NaN                          NaN   \n",
      "34                          NaN                          NaN   \n",
      "43                          NaN                          NaN   \n",
      "44                          NaN                          NaN   \n",
      "47                          NaN                          NaN   \n",
      "48                          NaN                          NaN   \n",
      "50                          NaN                          NaN   \n",
      "51                          NaN                          NaN   \n",
      "53                          NaN                          NaN   \n",
      "57                          NaN                          NaN   \n",
      "58                          NaN                          NaN   \n",
      "60                          NaN                          NaN   \n",
      "62                          NaN                          NaN   \n",
      "63                          NaN                          NaN   \n",
      "64                          NaN                          NaN   \n",
      "67                          NaN                          NaN   \n",
      "69                          NaN                          NaN   \n",
      "71                          NaN                          NaN   \n",
      "72                          NaN                          NaN   \n",
      "73                          NaN                          NaN   \n",
      "\n",
      "    Reproduções de 75% do vídeo  Reproduções de 95% do vídeo  \\\n",
      "27                          NaN                          NaN   \n",
      "29                          NaN                          NaN   \n",
      "32                          NaN                          NaN   \n",
      "34                          NaN                          NaN   \n",
      "43                          NaN                          NaN   \n",
      "44                          NaN                          NaN   \n",
      "47                          NaN                          NaN   \n",
      "48                          NaN                          NaN   \n",
      "50                          NaN                          NaN   \n",
      "51                          NaN                          NaN   \n",
      "53                          NaN                          NaN   \n",
      "57                          NaN                          NaN   \n",
      "58                          NaN                          NaN   \n",
      "60                          NaN                          NaN   \n",
      "62                          NaN                          NaN   \n",
      "63                          NaN                          NaN   \n",
      "64                          NaN                          NaN   \n",
      "67                          NaN                          NaN   \n",
      "69                          NaN                          NaN   \n",
      "71                          NaN                          NaN   \n",
      "72                          NaN                          NaN   \n",
      "73                          NaN                          NaN   \n",
      "\n",
      "    Reproduções de 100% do vídeo  Início dos relatórios  \\\n",
      "27                           NaN             2024-09-30   \n",
      "29                           NaN             2024-09-30   \n",
      "32                           NaN             2024-09-30   \n",
      "34                           NaN             2024-09-30   \n",
      "43                           NaN             2024-09-30   \n",
      "44                           NaN             2024-09-30   \n",
      "47                           NaN             2024-09-30   \n",
      "48                           NaN             2024-09-30   \n",
      "50                           NaN             2024-09-30   \n",
      "51                           NaN             2024-09-30   \n",
      "53                           NaN             2024-09-30   \n",
      "57                           NaN             2024-09-30   \n",
      "58                           NaN             2024-09-30   \n",
      "60                           NaN             2024-09-30   \n",
      "62                           NaN             2024-09-30   \n",
      "63                           NaN             2024-09-30   \n",
      "64                           NaN             2024-09-30   \n",
      "67                           NaN             2024-09-30   \n",
      "69                           NaN             2024-09-30   \n",
      "71                           NaN             2024-09-30   \n",
      "72                           NaN             2024-09-30   \n",
      "73                           NaN             2024-09-30   \n",
      "\n",
      "    Término dos relatórios  \n",
      "27              2024-10-29  \n",
      "29              2024-10-29  \n",
      "32              2024-10-29  \n",
      "34              2024-10-29  \n",
      "43              2024-10-29  \n",
      "44              2024-10-29  \n",
      "47              2024-10-29  \n",
      "48              2024-10-29  \n",
      "50              2024-10-29  \n",
      "51              2024-10-29  \n",
      "53              2024-10-29  \n",
      "57              2024-10-29  \n",
      "58              2024-10-29  \n",
      "60              2024-10-29  \n",
      "62              2024-10-29  \n",
      "63              2024-10-29  \n",
      "64              2024-10-29  \n",
      "67              2024-10-29  \n",
      "69              2024-10-29  \n",
      "71              2024-10-29  \n",
      "72              2024-10-29  \n",
      "73              2024-10-29  \n",
      "\n",
      "[22 rows x 27 columns]\n"
     ]
    }
   ],
   "source": [
    "# Identifica e exibe as linhas duplicadas antes de removê-las\n",
    "duplicatas = dados_anuncios[dados_anuncios.duplicated()]\n",
    "\n",
    "# Verifica se existem duplicatas e exibe uma mensagem\n",
    "if not duplicatas.empty:\n",
    "    print(\"Linhas duplicadas encontradas e que serão removidas:\")\n",
    "    print(duplicatas)\n",
    "else:\n",
    "    print(\"Nenhuma linha duplicada encontrada.\")\n",
    "\n",
    "# Remove as linhas duplicadas\n",
    "dados_anuncios = dados_anuncios.drop_duplicates()\n"
   ]
  },
  {
   "cell_type": "markdown",
   "metadata": {},
   "source": [
    "### Removendo colunas vazias\n",
    "### Aqui, removeremos colunas que estejam completamente vazias, pois não contribuem para a análise"
   ]
  },
  {
   "cell_type": "code",
   "execution_count": 18,
   "metadata": {},
   "outputs": [],
   "source": [
    "dados_anuncios = dados_anuncios.dropna(axis=1, how='all')"
   ]
  },
  {
   "cell_type": "code",
   "execution_count": 19,
   "metadata": {},
   "outputs": [],
   "source": [
    "# Função para extrair a data\n",
    "def extrair_data(nome_anuncio):\n",
    "    match = re.search(r'\\d{2}/\\d{2}/\\d{4}', nome_anuncio)\n",
    "    return match.group(0) if match else None\n",
    "\n",
    "# Aplicando a função na coluna 'Nome do anúncio' e criando a nova coluna 'Data de criação'\n",
    "dados_anuncios['Data de criação'] = dados_anuncios['Nome do anúncio'].apply(extrair_data)\n",
    "\n"
   ]
  },
  {
   "cell_type": "markdown",
   "metadata": {},
   "source": [
    "### Exibindo os tipos de dados de cada coluna\n",
    "### Essa inspeção é fundamental para verificar a consistência de tipos e ajustar a análise posteriormente, se necessário"
   ]
  },
  {
   "cell_type": "code",
   "execution_count": 20,
   "metadata": {},
   "outputs": [
    {
     "data": {
      "text/plain": [
       "Nome do anúncio                          object\n",
       "Alcance                                   int64\n",
       "Impressões                                int64\n",
       "Frequência                              float64\n",
       "Valor usado (BRL)                       float64\n",
       "Configuração de atribuição               object\n",
       "Tipo de resultado                        object\n",
       "Resultados                              float64\n",
       "Custo por resultado                     float64\n",
       "CPM (custo por 1.000 impressões)        float64\n",
       "CTR (todos)                             float64\n",
       "Classificação de qualidade               object\n",
       "Classificação da taxa de engajamento     object\n",
       "CPC (custo por clique no link)          float64\n",
       "Cliques (todos)                           int64\n",
       "Engajamento com a Página                float64\n",
       "Reproduções de 25% do vídeo             float64\n",
       "Reproduções de 50% do vídeo             float64\n",
       "Reproduções de 75% do vídeo             float64\n",
       "Reproduções de 95% do vídeo             float64\n",
       "Reproduções de 100% do vídeo            float64\n",
       "Início dos relatórios                    object\n",
       "Término dos relatórios                   object\n",
       "Data de criação                          object\n",
       "dtype: object"
      ]
     },
     "execution_count": 20,
     "metadata": {},
     "output_type": "execute_result"
    }
   ],
   "source": [
    "dados_anuncios.dtypes"
   ]
  },
  {
   "cell_type": "markdown",
   "metadata": {},
   "source": [
    "# Ajuste de tipos das colunas"
   ]
  },
  {
   "cell_type": "code",
   "execution_count": 21,
   "metadata": {},
   "outputs": [
    {
     "data": {
      "text/plain": [
       "'pt_BR.UTF-8'"
      ]
     },
     "execution_count": 21,
     "metadata": {},
     "output_type": "execute_result"
    }
   ],
   "source": [
    "# Configura o locale para o Brasil\n",
    "locale.setlocale(locale.LC_ALL, 'pt_BR.UTF-8')"
   ]
  },
  {
   "cell_type": "code",
   "execution_count": 22,
   "metadata": {},
   "outputs": [
    {
     "name": "stdout",
     "output_type": "stream",
     "text": [
      "Datas nulas em 'Início dos relatórios':\n",
      "Empty DataFrame\n",
      "Columns: [Nome do anúncio, Alcance, Impressões, Frequência, Valor usado (BRL), Configuração de atribuição, Tipo de resultado, Resultados, Custo por resultado, CPM (custo por 1.000 impressões), CTR (todos), Classificação de qualidade, Classificação da taxa de engajamento, CPC (custo por clique no link), Cliques (todos), Engajamento com a Página, Reproduções de 25% do vídeo, Reproduções de 50% do vídeo, Reproduções de 75% do vídeo, Reproduções de 95% do vídeo, Reproduções de 100% do vídeo, Início dos relatórios, Término dos relatórios, Data de criação]\n",
      "Index: []\n",
      "\n",
      "[0 rows x 24 columns]\n",
      "Datas nulas em 'Término dos relatórios':\n",
      "Empty DataFrame\n",
      "Columns: [Nome do anúncio, Alcance, Impressões, Frequência, Valor usado (BRL), Configuração de atribuição, Tipo de resultado, Resultados, Custo por resultado, CPM (custo por 1.000 impressões), CTR (todos), Classificação de qualidade, Classificação da taxa de engajamento, CPC (custo por clique no link), Cliques (todos), Engajamento com a Página, Reproduções de 25% do vídeo, Reproduções de 50% do vídeo, Reproduções de 75% do vídeo, Reproduções de 95% do vídeo, Reproduções de 100% do vídeo, Início dos relatórios, Término dos relatórios, Data de criação]\n",
      "Index: []\n",
      "\n",
      "[0 rows x 24 columns]\n"
     ]
    }
   ],
   "source": [
    "\n",
    "# Função para formatar valores em moeda brasileira\n",
    "def formatar_moeda(valor):\n",
    "    return locale.currency(valor, grouping=True) if pd.notnull(valor) else valor\n",
    "\n",
    "# Função para converter datas para o formato padrão e exibi-las no formato brasileiro\n",
    "def converter_data(data):\n",
    "    for fmt in ('%d/%m/%Y', '%Y-%m-%d'):\n",
    "        try:\n",
    "            data_formatada = pd.to_datetime(data, format=fmt)\n",
    "            return data_formatada.strftime('%d/%m/%Y')  # Retorna em formato brasileiro\n",
    "        except ValueError:\n",
    "            continue\n",
    "    return pd.NaT  # Retorna NaT se nenhum formato for adequado\n",
    "\n",
    "# Aplicando as correções de tipos nas colunas conforme solicitado\n",
    "dados_anuncios = dados_anuncios.astype({\n",
    "    'Nome do anúncio': 'string',\n",
    "    'Alcance': 'int64',\n",
    "    'Impressões': 'int64',\n",
    "    'Frequência': 'float64',\n",
    "    'Configuração de atribuição': 'category',\n",
    "    'Tipo de resultado': 'category',\n",
    "    'Resultados': 'float64',\n",
    "    'Classificação de qualidade': 'category',\n",
    "    'Classificação da taxa de engajamento': 'category',\n",
    "    'Cliques (todos)': 'int64',\n",
    "    'Engajamento com a Página': 'float64',\n",
    "    'Reproduções de 25% do vídeo': 'float64',\n",
    "    'Reproduções de 50% do vídeo': 'float64',\n",
    "    'Reproduções de 75% do vídeo': 'float64',\n",
    "    'Reproduções de 95% do vídeo': 'float64',\n",
    "    'Reproduções de 100% do vídeo': 'float64'\n",
    "})\n",
    "\n",
    "# Aplicando a função de formatação de moeda nas colunas de valores monetários\n",
    "for coluna_monetaria in ['Valor usado (BRL)', 'Custo por resultado', 'CPM (custo por 1.000 impressões)', 'CPC (custo por clique no link)']:\n",
    "    dados_anuncios[coluna_monetaria] = dados_anuncios[coluna_monetaria].apply(formatar_moeda)\n",
    "\n",
    "# Convertendo datas para o formato brasileiro com a função converter_data\n",
    "dados_anuncios['Início dos relatórios'] = dados_anuncios['Início dos relatórios'].apply(converter_data)\n",
    "dados_anuncios['Término dos relatórios'] = dados_anuncios['Término dos relatórios'].apply(converter_data)\n",
    "\n",
    "# Verificando datas nulas após a conversão\n",
    "print(\"Datas nulas em 'Início dos relatórios':\")\n",
    "print(dados_anuncios[dados_anuncios['Início dos relatórios'].isnull()])\n",
    "\n",
    "print(\"Datas nulas em 'Término dos relatórios':\")\n",
    "print(dados_anuncios[dados_anuncios['Término dos relatórios'].isnull()])\n",
    "\n",
    "# Convertendo CTR para float64\n",
    "dados_anuncios['CTR (todos)'] = pd.to_numeric(dados_anuncios['CTR (todos)'], errors='coerce')\n"
   ]
  },
  {
   "cell_type": "code",
   "execution_count": 23,
   "metadata": {},
   "outputs": [
    {
     "data": {
      "text/plain": [
       "Nome do anúncio                         string[python]\n",
       "Alcance                                          int64\n",
       "Impressões                                       int64\n",
       "Frequência                                     float64\n",
       "Valor usado (BRL)                               object\n",
       "Configuração de atribuição                    category\n",
       "Tipo de resultado                             category\n",
       "Resultados                                     float64\n",
       "Custo por resultado                             object\n",
       "CPM (custo por 1.000 impressões)                object\n",
       "CTR (todos)                                    float64\n",
       "Classificação de qualidade                    category\n",
       "Classificação da taxa de engajamento          category\n",
       "CPC (custo por clique no link)                  object\n",
       "Cliques (todos)                                  int64\n",
       "Engajamento com a Página                       float64\n",
       "Reproduções de 25% do vídeo                    float64\n",
       "Reproduções de 50% do vídeo                    float64\n",
       "Reproduções de 75% do vídeo                    float64\n",
       "Reproduções de 95% do vídeo                    float64\n",
       "Reproduções de 100% do vídeo                   float64\n",
       "Início dos relatórios                           object\n",
       "Término dos relatórios                          object\n",
       "Data de criação                                 object\n",
       "dtype: object"
      ]
     },
     "execution_count": 23,
     "metadata": {},
     "output_type": "execute_result"
    }
   ],
   "source": [
    "\n",
    "# Exibir o dataframe atualizado e verificar os tipos das colunas\n",
    "dados_anuncios.dtypes"
   ]
  },
  {
   "cell_type": "code",
   "execution_count": 24,
   "metadata": {},
   "outputs": [
    {
     "name": "stdout",
     "output_type": "stream",
     "text": [
      "Anúncios excluídos:\n",
      "1. AD 04 - VÍDEO - 18 | 04\n",
      "2. AD 03 - CARROSSEL 3  - 21 | 12\n",
      "3. AD 02 - STORY - 05/06/2024\n",
      "4. AD 03 - CARROSSEL ST - 24/05/2024\n",
      "5. AD 04 - CARROSSEL 4  - 21 | 12\n",
      "6. AD 01 - STORIES - 21 | 12\n",
      "7. AD 01 - CARROSSEL FEED - 05/06/2024\n",
      "8. AD 02 - IMAGEM STORIES\n",
      "9. AD 03 CARROSSEL - 06 | 10\n",
      "10. AD 03 - CARROSSEL - 17 | 08\n",
      "11. AD 01 - IMAGEM ÚNICA - 14 | 07\n",
      "12. AD 02 - CARROSSEL 2  - 21 | 12\n",
      "13. AD 01 IMAGEM ÚNICA - 06 | 10\n",
      "14. AD - 05 - CARROSSEL ST - 24/05/2024\n",
      "15. AD 03 - IMAGEM ÚNICA - 18 | 04\n",
      "16. AD 02 - CARROSSEL 1 - 18 | 04\n",
      "17. AD 01 - CARROSSEL 1 - 18 | 04\n",
      "18. AD 03 - CARROSSEL - 18 | 08\n",
      "19. AD 01 - CARROSSEL - 17 | 02\n",
      "20. AD 01 - IMAGEM STORIES\n",
      "21. AD 01 - CARROSSEL\n",
      "22. AD 01 - VÍDEO STORIES - 04/04/24\n",
      "23. AD 01 - STORY - 05/06/2024\n",
      "24. AD 01 - IMAGEM ÚNICA - 18 | 08\n",
      "25. AD 04 - CARROSSEL ST - 24/05/2024\n",
      "26. AD 02 - IMAGEM ÚNICA - 18 | 08\n",
      "27. AD 02 - CARROSSEL ST - 24/05/2024\n",
      "28. AD 03 - VÍDEO - 18 | 04\n",
      "29. AD 05 - CARROSSEL ST - 24/05/2024\n",
      "30. AD - 02 - CARROSSEL ST - 24/05/2024\n",
      "31. AD 02 - IMAGEM ÚNICA - 14 | 07\n",
      "32. AD 01 - CARROSSEL 1 - 21 | 12\n",
      "33. AD 02 - IMAGEM ÚNICA - 17 | 08\n",
      "34. AD - 01 - CARROSSEL ST - 24/05/2024\n",
      "35. AD 02 IMAGEM ÚNICA - 06 | 10\n",
      "36. AD - 03 - CARROSSEL ST - 24/05/2024\n",
      "37. AD - 04 - CARROSSEL ST - 24/05/2024\n",
      "38. AD 02 - VÍDEO - 18 | 04\n",
      "39. AD 01 - IMAGEM ÚNICA - 17 | 08\n",
      "40. AD 02 - CARROSSEL 2 - 18 | 04\n",
      "41. AD 01 - CARROSSEL ST - 24/05/2024\n",
      "42. AD 01 - VÍDEO - 18 | 04\n",
      "43. AD 01 - VÍDEO - 30 | 06\n",
      "44. AD 01 - CARROSSEL - 18/06/2024\n",
      "45. AD 01 - ESPECIAL - 21 | 12\n"
     ]
    }
   ],
   "source": [
    "# Identificar as linhas onde o valor de 'Alcance' é igual a zero\n",
    "linhas_excluir = dados_anuncios[dados_anuncios['Alcance'] == 0]\n",
    "\n",
    "# Extrair os nomes dos anúncios que serão excluídos\n",
    "anuncios_excluidos = linhas_excluir['Nome do anúncio'].tolist()\n",
    "\n",
    "# Imprimir os nomes dos anúncios que serão excluídos de forma mais bonita\n",
    "print(\"Anúncios excluídos:\")\n",
    "for i, anuncio in enumerate(anuncios_excluidos, start=1):\n",
    "    print(f\"{i}. {anuncio}\")\n",
    "\n",
    "# Excluir as linhas onde 'Alcance' é igual a zero do DataFrame original\n",
    "dados_anuncios = dados_anuncios[dados_anuncios['Alcance'] != 0]\n",
    "\n",
    "# Resetar o índice após a exclusão\n",
    "dados_anuncios.reset_index(drop=True, inplace=True)\n"
   ]
  },
  {
   "cell_type": "code",
   "execution_count": 26,
   "metadata": {},
   "outputs": [],
   "source": [
    "dados_anuncios.to_csv(\"miro_dados_ultimos_30_dias.csv\", index=False)"
   ]
  }
 ],
 "metadata": {
  "kernelspec": {
   "display_name": "Python 3",
   "language": "python",
   "name": "python3"
  },
  "language_info": {
   "codemirror_mode": {
    "name": "ipython",
    "version": 3
   },
   "file_extension": ".py",
   "mimetype": "text/x-python",
   "name": "python",
   "nbconvert_exporter": "python",
   "pygments_lexer": "ipython3",
   "version": "3.11.9"
  }
 },
 "nbformat": 4,
 "nbformat_minor": 2
}
